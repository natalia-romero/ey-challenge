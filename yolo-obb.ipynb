{
 "cells": [
  {
   "cell_type": "markdown",
   "metadata": {
    "id": "u2ocajKRrE9j"
   },
   "source": [
    "# Phase 1: Tropical Cyclone Damage Assesment"
   ]
  },
  {
   "cell_type": "markdown",
   "metadata": {},
   "source": [
    "## Part One\n",
    "### Install and import dependencies"
   ]
  },
  {
   "cell_type": "code",
   "execution_count": 1,
   "metadata": {},
   "outputs": [
    {
     "name": "stdout",
     "output_type": "stream",
     "text": [
      "Collecting ultralytics\n",
      "  Using cached ultralytics-8.1.29-py3-none-any.whl (721 kB)\n",
      "Requirement already satisfied: pyyaml>=5.3.1 in /srv/conda/envs/notebook/lib/python3.9/site-packages (from ultralytics) (5.4.1)\n",
      "Requirement already satisfied: torchvision>=0.9.0 in /srv/conda/envs/notebook/lib/python3.9/site-packages (from ultralytics) (0.13.0a0+8069656)\n",
      "Requirement already satisfied: tqdm>=4.64.0 in /srv/conda/envs/notebook/lib/python3.9/site-packages (from ultralytics) (4.64.1)\n",
      "Requirement already satisfied: psutil in /srv/conda/envs/notebook/lib/python3.9/site-packages (from ultralytics) (5.9.2)\n",
      "Requirement already satisfied: pandas>=1.1.4 in /srv/conda/envs/notebook/lib/python3.9/site-packages (from ultralytics) (1.4.4)\n",
      "Requirement already satisfied: seaborn>=0.11.0 in /srv/conda/envs/notebook/lib/python3.9/site-packages (from ultralytics) (0.12.0)\n",
      "Collecting opencv-python>=4.6.0\n",
      "  Using cached opencv_python-4.9.0.80-cp37-abi3-manylinux_2_17_x86_64.manylinux2014_x86_64.whl (62.2 MB)\n",
      "Requirement already satisfied: pillow>=7.1.2 in /srv/conda/envs/notebook/lib/python3.9/site-packages (from ultralytics) (9.2.0)\n",
      "Requirement already satisfied: torch>=1.8.0 in /srv/conda/envs/notebook/lib/python3.9/site-packages (from ultralytics) (1.12.1.post200)\n",
      "Collecting thop>=0.1.1\n",
      "  Using cached thop-0.1.1.post2209072238-py3-none-any.whl (15 kB)\n",
      "Requirement already satisfied: requests>=2.23.0 in /srv/conda/envs/notebook/lib/python3.9/site-packages (from ultralytics) (2.28.1)\n",
      "Requirement already satisfied: scipy>=1.4.1 in /srv/conda/envs/notebook/lib/python3.9/site-packages (from ultralytics) (1.9.1)\n",
      "Requirement already satisfied: matplotlib>=3.3.0 in /srv/conda/envs/notebook/lib/python3.9/site-packages (from ultralytics) (3.5.3)\n",
      "Collecting py-cpuinfo\n",
      "  Using cached py_cpuinfo-9.0.0-py3-none-any.whl (22 kB)\n",
      "Requirement already satisfied: kiwisolver>=1.0.1 in /srv/conda/envs/notebook/lib/python3.9/site-packages (from matplotlib>=3.3.0->ultralytics) (1.4.4)\n",
      "Requirement already satisfied: numpy>=1.17 in /srv/conda/envs/notebook/lib/python3.9/site-packages (from matplotlib>=3.3.0->ultralytics) (1.23.3)\n",
      "Requirement already satisfied: pyparsing>=2.2.1 in /srv/conda/envs/notebook/lib/python3.9/site-packages (from matplotlib>=3.3.0->ultralytics) (3.0.9)\n",
      "Requirement already satisfied: packaging>=20.0 in /srv/conda/envs/notebook/lib/python3.9/site-packages (from matplotlib>=3.3.0->ultralytics) (21.3)\n",
      "Requirement already satisfied: python-dateutil>=2.7 in /srv/conda/envs/notebook/lib/python3.9/site-packages (from matplotlib>=3.3.0->ultralytics) (2.8.2)\n",
      "Requirement already satisfied: cycler>=0.10 in /srv/conda/envs/notebook/lib/python3.9/site-packages (from matplotlib>=3.3.0->ultralytics) (0.11.0)\n",
      "Requirement already satisfied: fonttools>=4.22.0 in /srv/conda/envs/notebook/lib/python3.9/site-packages (from matplotlib>=3.3.0->ultralytics) (4.37.2)\n",
      "Requirement already satisfied: pytz>=2020.1 in /srv/conda/envs/notebook/lib/python3.9/site-packages (from pandas>=1.1.4->ultralytics) (2022.2.1)\n",
      "Requirement already satisfied: idna<4,>=2.5 in /srv/conda/envs/notebook/lib/python3.9/site-packages (from requests>=2.23.0->ultralytics) (3.3)\n",
      "Requirement already satisfied: certifi>=2017.4.17 in /srv/conda/envs/notebook/lib/python3.9/site-packages (from requests>=2.23.0->ultralytics) (2022.9.14)\n",
      "Requirement already satisfied: urllib3<1.27,>=1.21.1 in /srv/conda/envs/notebook/lib/python3.9/site-packages (from requests>=2.23.0->ultralytics) (1.26.11)\n",
      "Requirement already satisfied: charset-normalizer<3,>=2 in /srv/conda/envs/notebook/lib/python3.9/site-packages (from requests>=2.23.0->ultralytics) (2.1.1)\n",
      "Requirement already satisfied: typing_extensions in /srv/conda/envs/notebook/lib/python3.9/site-packages (from torch>=1.8.0->ultralytics) (4.3.0)\n",
      "Requirement already satisfied: six>=1.5 in /srv/conda/envs/notebook/lib/python3.9/site-packages (from python-dateutil>=2.7->matplotlib>=3.3.0->ultralytics) (1.16.0)\n",
      "Installing collected packages: py-cpuinfo, opencv-python, thop, ultralytics\n",
      "Successfully installed opencv-python-4.9.0.80 py-cpuinfo-9.0.0 thop-0.1.1.post2209072238 ultralytics-8.1.29\n",
      "Note: you may need to restart the kernel to use updated packages.\n",
      "Collecting opencv-python-headless\n",
      "  Using cached opencv_python_headless-4.9.0.80-cp37-abi3-manylinux_2_17_x86_64.manylinux2014_x86_64.whl (49.6 MB)\n",
      "Requirement already satisfied: numpy>=1.17.0 in /srv/conda/envs/notebook/lib/python3.9/site-packages (from opencv-python-headless) (1.23.3)\n",
      "Installing collected packages: opencv-python-headless\n",
      "Successfully installed opencv-python-headless-4.9.0.80\n",
      "Collecting labelme2yolo\n",
      "  Using cached labelme2yolo-0.1.6-py3-none-any.whl (8.8 kB)\n",
      "Requirement already satisfied: pillow<10.3,>=9.2 in /srv/conda/envs/notebook/lib/python3.9/site-packages (from labelme2yolo) (9.2.0)\n",
      "Requirement already satisfied: rich in /srv/conda/envs/notebook/lib/python3.9/site-packages (from labelme2yolo) (12.5.1)\n",
      "Requirement already satisfied: opencv-python>=4.1.2 in /srv/conda/envs/notebook/lib/python3.9/site-packages (from labelme2yolo) (4.9.0.80)\n",
      "Requirement already satisfied: numpy<1.27.0,>=1.23.1 in /srv/conda/envs/notebook/lib/python3.9/site-packages (from labelme2yolo) (1.23.3)\n",
      "Requirement already satisfied: commonmark<0.10.0,>=0.9.0 in /srv/conda/envs/notebook/lib/python3.9/site-packages (from rich->labelme2yolo) (0.9.1)\n",
      "Requirement already satisfied: pygments<3.0.0,>=2.6.0 in /srv/conda/envs/notebook/lib/python3.9/site-packages (from rich->labelme2yolo) (2.13.0)\n",
      "Installing collected packages: labelme2yolo\n",
      "Successfully installed labelme2yolo-0.1.6\n",
      "Collecting gdown==v4.6.3\n",
      "  Using cached gdown-4.6.3-py3-none-any.whl (14 kB)\n",
      "Requirement already satisfied: requests[socks] in /srv/conda/envs/notebook/lib/python3.9/site-packages (from gdown==v4.6.3) (2.28.1)\n",
      "Requirement already satisfied: tqdm in /srv/conda/envs/notebook/lib/python3.9/site-packages (from gdown==v4.6.3) (4.64.1)\n",
      "Requirement already satisfied: filelock in /srv/conda/envs/notebook/lib/python3.9/site-packages (from gdown==v4.6.3) (3.8.0)\n",
      "Requirement already satisfied: beautifulsoup4 in /srv/conda/envs/notebook/lib/python3.9/site-packages (from gdown==v4.6.3) (4.11.1)\n",
      "Requirement already satisfied: six in /srv/conda/envs/notebook/lib/python3.9/site-packages (from gdown==v4.6.3) (1.16.0)\n",
      "Requirement already satisfied: soupsieve>1.2 in /srv/conda/envs/notebook/lib/python3.9/site-packages (from beautifulsoup4->gdown==v4.6.3) (2.3.2.post1)\n",
      "Requirement already satisfied: idna<4,>=2.5 in /srv/conda/envs/notebook/lib/python3.9/site-packages (from requests[socks]->gdown==v4.6.3) (3.3)\n",
      "Requirement already satisfied: urllib3<1.27,>=1.21.1 in /srv/conda/envs/notebook/lib/python3.9/site-packages (from requests[socks]->gdown==v4.6.3) (1.26.11)\n",
      "Requirement already satisfied: certifi>=2017.4.17 in /srv/conda/envs/notebook/lib/python3.9/site-packages (from requests[socks]->gdown==v4.6.3) (2022.9.14)\n",
      "Requirement already satisfied: charset-normalizer<3,>=2 in /srv/conda/envs/notebook/lib/python3.9/site-packages (from requests[socks]->gdown==v4.6.3) (2.1.1)\n",
      "Requirement already satisfied: PySocks!=1.5.7,>=1.5.6 in /srv/conda/envs/notebook/lib/python3.9/site-packages (from requests[socks]->gdown==v4.6.3) (1.7.1)\n",
      "Installing collected packages: gdown\n",
      "  Attempting uninstall: gdown\n",
      "    Found existing installation: gdown 4.5.1\n",
      "    Uninstalling gdown-4.5.1:\n",
      "      Successfully uninstalled gdown-4.5.1\n",
      "Successfully installed gdown-4.6.3\n"
     ]
    }
   ],
   "source": [
    "%pip install ultralytics\n",
    "!pip install opencv-python-headless \n",
    "!pip install labelme2yolo\n",
    "!pip install gdown==v4.6.3"
   ]
  },
  {
   "cell_type": "markdown",
   "metadata": {},
   "source": [
    "### Supress Warnings\n",
    "In this section, we suppress any warnings that may arise during the execution of the code."
   ]
  },
  {
   "cell_type": "code",
   "execution_count": 2,
   "metadata": {},
   "outputs": [],
   "source": [
    "# Supress Warnings\n",
    "import warnings\n",
    "warnings.filterwarnings('ignore')"
   ]
  },
  {
   "cell_type": "markdown",
   "metadata": {},
   "source": [
    "This code snippet prevents warnings from being displayed, which can help maintain a clean output and avoid distractions."
   ]
  },
  {
   "cell_type": "markdown",
   "metadata": {},
   "source": [
    "### GeoTiff Images\n",
    "Here, we import libraries for working with GeoTiff images, which are commonly used in geospatial applications. These will be used to extract pre-event and post-event images of San Juan."
   ]
  },
  {
   "cell_type": "code",
   "execution_count": 3,
   "metadata": {},
   "outputs": [],
   "source": [
    "# GeoTiff Images\n",
    "import rasterio\n",
    "from osgeo import gdal"
   ]
  },
  {
   "cell_type": "markdown",
   "metadata": {},
   "source": [
    "### data-visualization\n",
    "In this section, we are importing the libraries needed to visualize data, such as matplotlib for plots and PIL for image processing."
   ]
  },
  {
   "cell_type": "code",
   "execution_count": 4,
   "metadata": {},
   "outputs": [],
   "source": [
    "# Visualisation\n",
    "from matplotlib import pyplot as plt\n",
    "import matplotlib.image as img\n",
    "from matplotlib.pyplot import figure\n",
    "from PIL import Image"
   ]
  },
  {
   "cell_type": "markdown",
   "metadata": {},
   "source": [
    "### Model Construction\n",
    "Here we are importing libraries related to building the model. In particular, we are using the ultralytics package to implement a YOLO model and the labelme2yolo function to convert labels from Labelme formats to YOLO format."
   ]
  },
  {
   "cell_type": "code",
   "execution_count": 5,
   "metadata": {},
   "outputs": [],
   "source": [
    "# Model Building\n",
    "import ultralytics\n",
    "from ultralytics import YOLO\n",
    "import labelme2yolo"
   ]
  },
  {
   "cell_type": "markdown",
   "metadata": {},
   "source": [
    "### Others\n",
    "In this block we are importing other libraries necessary for code execution, such as OS for system operations, shutil for file and folder operations, and zipfile for working with zip files."
   ]
  },
  {
   "cell_type": "code",
   "execution_count": 6,
   "metadata": {
    "tags": []
   },
   "outputs": [],
   "source": [
    "# Others\n",
    "import os\n",
    "import shutil\n",
    "import zipfile\n",
    "import gdown"
   ]
  },
  {
   "cell_type": "markdown",
   "metadata": {},
   "source": [
    "We are also using %matplotlib inline to ensure that the plots are displayed inline within the notebook."
   ]
  },
  {
   "cell_type": "code",
   "execution_count": 7,
   "metadata": {},
   "outputs": [],
   "source": [
    "%matplotlib inline"
   ]
  },
  {
   "cell_type": "markdown",
   "metadata": {},
   "source": [
    "## Part Two\n",
    "### Download the mandatory dataset\n",
    "- To train our model, we use both Post-Event and Pre-Event .tiff images taken by the Maxar GeoEye-1 satellite, which enables us to label the data accurately."
   ]
  },
  {
   "cell_type": "markdown",
   "metadata": {},
   "source": [
    "### Download Pre-Event and Post-Event Images of San Juan\n",
    "In this section, we download both the pre-event and post-event images of San Juan from the specified URLs."
   ]
  },
  {
   "cell_type": "markdown",
   "metadata": {},
   "source": [
    "### Pre-Event Image\n",
    "To download the pre-event image of San Juan, we use the following command:"
   ]
  },
  {
   "cell_type": "code",
   "execution_count": 8,
   "metadata": {},
   "outputs": [
    {
     "name": "stdout",
     "output_type": "stream",
     "text": [
      "--2024-03-17 05:22:42--  https://challenge.ey.com/api/v1/storage/admin-files/Pre_Event_San_Juan.tif\n",
      "Resolving challenge.ey.com (challenge.ey.com)... 52.236.158.32\n",
      "Connecting to challenge.ey.com (challenge.ey.com)|52.236.158.32|:443... connected.\n",
      "HTTP request sent, awaiting response... 200 OK\n",
      "Length: 1016993213 (970M) [application/octet-stream]\n",
      "Saving to: ‘Pre_Event_San_Juan.tif’\n",
      "\n",
      "Pre_Event_San_Juan. 100%[===================>] 969.88M   225MB/s    in 4.3s    \n",
      "\n",
      "2024-03-17 05:22:53 (224 MB/s) - ‘Pre_Event_San_Juan.tif’ saved [1016993213/1016993213]\n",
      "\n"
     ]
    }
   ],
   "source": [
    "!wget https://challenge.ey.com/api/v1/storage/admin-files/Pre_Event_San_Juan.tif -O Pre_Event_San_Juan.tif "
   ]
  },
  {
   "cell_type": "markdown",
   "metadata": {},
   "source": [
    "This command utilizes the `wget` utility to download the pre-event image of San Juan from the provided URL. The image is saved as `Pre_Event_San_Juan.tif`."
   ]
  },
  {
   "cell_type": "markdown",
   "metadata": {},
   "source": [
    "### Post-Event Image\n",
    "For the post-event image of San Juan, we execute the following command:"
   ]
  },
  {
   "cell_type": "code",
   "execution_count": 9,
   "metadata": {},
   "outputs": [
    {
     "name": "stdout",
     "output_type": "stream",
     "text": [
      "--2024-03-17 05:22:54--  https://challenge.ey.com/api/v1/storage/admin-files/Post_Event_San_Juan.tif\n",
      "Resolving challenge.ey.com (challenge.ey.com)... 52.236.158.32\n",
      "Connecting to challenge.ey.com (challenge.ey.com)|52.236.158.32|:443... connected.\n",
      "HTTP request sent, awaiting response... 200 OK\n",
      "Length: 1310494499 (1.2G) [application/octet-stream]\n",
      "Saving to: ‘Post_Event_San_Juan.tif’\n",
      "\n",
      "Post_Event_San_Juan 100%[===================>]   1.22G   225MB/s    in 5.6s    \n",
      "\n",
      "2024-03-17 05:23:09 (224 MB/s) - ‘Post_Event_San_Juan.tif’ saved [1310494499/1310494499]\n",
      "\n"
     ]
    }
   ],
   "source": [
    "!wget https://challenge.ey.com/api/v1/storage/admin-files/Post_Event_San_Juan.tif -O Post_Event_San_Juan.tif "
   ]
  },
  {
   "cell_type": "markdown",
   "metadata": {},
   "source": [
    "Similarly, this command employs `wget` to download the post-event image of San Juan from the specified URL. The image is saved as `Post_Event_San_Juan.tif`."
   ]
  },
  {
   "cell_type": "markdown",
   "metadata": {},
   "source": [
    "### Pre-Event and Post-Event Images of San Juan\n",
    "In this section, we define the file paths for both the pre-event and post-event images of San Juan."
   ]
  },
  {
   "cell_type": "markdown",
   "metadata": {},
   "source": [
    "### Pre-Event Image\n",
    "The file path for the pre-event image of San Juan is defined as follows:"
   ]
  },
  {
   "cell_type": "code",
   "execution_count": 10,
   "metadata": {},
   "outputs": [],
   "source": [
    "pre_event_image = './Pre_Event_San_Juan.tif'"
   ]
  },
  {
   "cell_type": "markdown",
   "metadata": {},
   "source": [
    "This variable `pre_event_image` holds the file path to the pre-event image file, 'Pre_Event_San_Juan.tif'."
   ]
  },
  {
   "cell_type": "markdown",
   "metadata": {},
   "source": [
    "### Post-Event Image\n",
    "Similarly, the file path for the post-event image of San Juan is specified as:"
   ]
  },
  {
   "cell_type": "code",
   "execution_count": 11,
   "metadata": {},
   "outputs": [],
   "source": [
    "post_event_image ='./Post_Event_San_Juan.tif'"
   ]
  },
  {
   "cell_type": "markdown",
   "metadata": {},
   "source": [
    "The variable `post_event_image` contains the file path to the post-event image file, 'Post_Event_San_Juan.tif'."
   ]
  },
  {
   "cell_type": "markdown",
   "metadata": {},
   "source": [
    "### Generate Tiles from Input Image\n",
    "This function generates tiles from an input image and saves them as separate TIFF images.\n",
    "\n",
    "Parameters:\n",
    "- input_file (str): The path to the input raster image file.\n",
    "- output_dir (str): The directory where the generated tiles will be saved.\n",
    "- grid_x (int): The number of tiles along the x-axis.\n",
    "- grid_y (int): The number of tiles along the y-axis.\n",
    "\n",
    "We have to process the .tiff image by split it in tiles. In this way, we can obtain pieces of 512x512 px of the entire image."
   ]
  },
  {
   "cell_type": "code",
   "execution_count": 12,
   "metadata": {},
   "outputs": [],
   "source": [
    "def generate_tiles(input_file, output_dir,grid_x,grid_y):\n",
    "    ds = gdal.Open(input_file)\n",
    "\n",
    "    # Get image size and number of bands numero de pixeles\n",
    "    width = ds.RasterXSize\n",
    "    height = ds.RasterYSize\n",
    "    num_bands = ds.RasterCount\n",
    "\n",
    "    # Calculate number of tiles in each dimension\n",
    "    num_tiles_x = (width // grid_x)\n",
    "    num_tiles_y = (height // grid_y)\n",
    "\n",
    "    print(f\"Total number of tiles: {num_tiles_x * num_tiles_y}\")\n",
    "\n",
    "    # Create output directory if it doesn't exist\n",
    "    os.makedirs(output_dir, exist_ok=True)\n",
    "\n",
    "    # Iterate over each tile and save as a separate TIFF image\n",
    "    for i in range(num_tiles_x):\n",
    "        for j in range(num_tiles_y):\n",
    "            x_offset = i *  grid_x\n",
    "            y_offset = j *  grid_y\n",
    "\n",
    "            tile_width = min(grid_x, width - x_offset)\n",
    "            tile_height = min(grid_y, height - y_offset)\n",
    "\n",
    "            tile = []\n",
    "            for band in range(1, num_bands + 1):\n",
    "                tile_data = ds.GetRasterBand(band).ReadAsArray(x_offset, y_offset, tile_width, tile_height)\n",
    "                tile.append(tile_data)\n",
    "\n",
    "            # Create output filename\n",
    "            output_file = os.path.join(output_dir, f\"tile_{i}_{j}.tif\")\n",
    "                \n",
    "            # Create an output TIFF file with same CRS and band values range\n",
    "            driver = gdal.GetDriverByName(\"GTiff\")\n",
    "            options = ['COMPRESS=DEFLATE', 'PREDICTOR=2', 'TILED=YES']\n",
    "            out_ds = driver.Create(output_file, tile_width, tile_height, num_bands, \n",
    "                       ds.GetRasterBand(1).DataType, options=options)\n",
    "            # out_ds = driver.Create(output_file, tile_width, tile_height, num_bands, ds.GetRasterBand(1).DataType)\n",
    "\n",
    "            # Set the geotransform\n",
    "            geotransform = list(ds.GetGeoTransform())\n",
    "            geotransform[0] = geotransform[0] + x_offset * geotransform[1]\n",
    "            geotransform[3] = geotransform[3] + y_offset * geotransform[5]\n",
    "            out_ds.SetGeoTransform(tuple(geotransform))\n",
    "\n",
    "            # Set the projection\n",
    "            out_ds.SetProjection(ds.GetProjection())\n",
    "\n",
    "            # Write each band to the output file\n",
    "            for band in range(1, num_bands + 1):\n",
    "                out_band = out_ds.GetRasterBand(band)\n",
    "                out_band.WriteArray(tile[band - 1])\n",
    "\n",
    "            # Close the output file\n",
    "            out_ds = None\n",
    "\n",
    "    print(\"Tiles generation completed.\")"
   ]
  },
  {
   "cell_type": "markdown",
   "metadata": {},
   "source": [
    "For example, we only create tiles from the pre-event image due to limited disk space. You can implement the code for the post-event image in the same manner."
   ]
  },
  {
   "cell_type": "code",
   "execution_count": 13,
   "metadata": {},
   "outputs": [
    {
     "name": "stdout",
     "output_type": "stream",
     "text": [
      "Total number of tiles: 10730\n",
      "Tiles generation completed.\n"
     ]
    }
   ],
   "source": [
    "# Paths to the input raster image file and the directory where the generated tiles will be saved \n",
    "input_file = \"./Pre_Event_San_Juan.tif\"\n",
    "output_dir = \"./Pre_Event_Grids_In_TIFF\"\n",
    "\n",
    "# Dimensions of each tile in pixels\n",
    "grid_x = 512\n",
    "grid_y = 512\n",
    "\n",
    "# Generate tiles from the input raster image\n",
    "generate_tiles(input_file, output_dir,grid_x,grid_y)"
   ]
  },
  {
   "cell_type": "markdown",
   "metadata": {},
   "source": [
    "### Label Data\n",
    "To label the data, we use LabelMe, which is a tool for labeling images. Since .tiff images are not easily processed by most software, we now convert the .tiff tiles to .jpg format."
   ]
  },
  {
   "cell_type": "code",
   "execution_count": 14,
   "metadata": {},
   "outputs": [],
   "source": [
    "def convert_tiff_to_jpeg(input_dir,output_dir):\n",
    "    # check if output_dir exists, if not create it\n",
    "    if not os.path.exists(output_dir):\n",
    "        os.makedirs(output_dir)\n",
    "\n",
    "    for filename in os.listdir(input_dir):\n",
    "        # check if file is an image (ends with .tif)\n",
    "        if filename.endswith('.tif'):\n",
    "            img = Image.open(os.path.join(input_dir, filename))\n",
    "        \n",
    "            # check if image is RGB mode, if not convert it\n",
    "            if img.mode != 'RGB':\n",
    "                img = img.convert('RGB')\n",
    "        \n",
    "            # create new filename, replace .tif with .jpg\n",
    "            output_filename = os.path.splitext(filename)[0] + '.jpg'\n",
    "        \n",
    "            # save the image in JPEG format\n",
    "            img.save(os.path.join(output_dir, output_filename), 'JPEG')\n",
    "    print(\"Conversion from TIFF to JPEG completed.\")"
   ]
  },
  {
   "cell_type": "code",
   "execution_count": 15,
   "metadata": {},
   "outputs": [
    {
     "name": "stdout",
     "output_type": "stream",
     "text": [
      "Conversion from TIFF to JPEG completed.\n"
     ]
    }
   ],
   "source": [
    "# specify directory\n",
    "input_dir = \"./Pre_Event_Grids_In_TIFF\"\n",
    "output_dir = \"./Pre_Event_Grids_In_JPEG\"\n",
    "convert_tiff_to_jpeg(input_dir,output_dir)"
   ]
  },
  {
   "cell_type": "markdown",
   "metadata": {},
   "source": [
    "Files are renamed so they will be easy to access"
   ]
  },
  {
   "cell_type": "code",
   "execution_count": 16,
   "metadata": {},
   "outputs": [],
   "source": [
    "def rename_files(directory_path):\n",
    "# Define the directory path where your files are located\n",
    "    directory_path = directory_path\n",
    "    \n",
    "    # Get a list of all files in the directory\n",
    "    files = os.listdir(directory_path)\n",
    "    \n",
    "    # Define a prefix for the new file names \n",
    "    # Change the prefix as per requirement\n",
    "    prefix = \"Post_Event_\"\n",
    "    \n",
    "    # Start the numbering from 1\n",
    "    number = 0\n",
    "    \n",
    "    # Loop through each file in the directory\n",
    "    for filename in files:\n",
    "        # Check if the item is a file (not a directory)\n",
    "        if os.path.isfile(os.path.join(directory_path, filename)):\n",
    "            # Get the file extension\n",
    "            file_extension = os.path.splitext(filename)[1]\n",
    "    \n",
    "            # Create the new file name with leading zeros\n",
    "            new_filename = f\"{prefix}{number:03}{file_extension}\"\n",
    "    \n",
    "            # Construct the full path to the original and new files\n",
    "            old_filepath = os.path.join(directory_path, filename)\n",
    "            new_filepath = os.path.join(directory_path, new_filename)\n",
    "    \n",
    "            # Rename the file\n",
    "            os.rename(old_filepath, new_filepath)\n",
    "    \n",
    "            # Increment the number for the next file\n",
    "            number += 1\n",
    "    \n",
    "    print(\"Files renamed successfully.\")"
   ]
  },
  {
   "cell_type": "code",
   "execution_count": 17,
   "metadata": {},
   "outputs": [
    {
     "name": "stdout",
     "output_type": "stream",
     "text": [
      "Files renamed successfully.\n"
     ]
    }
   ],
   "source": [
    "rename_files(output_dir)"
   ]
  },
  {
   "cell_type": "markdown",
   "metadata": {},
   "source": [
    "Once we have the output .jpg tiles, we use the LabelMe software to label the data. The label classes are as follows:\n",
    "- **Damaged Commercial Building:** This class refers to buildings used exclusively for commercial purposes that exhibit structural damage. To identify such buildings, we examine the space around them, looking for indicators like parking spaces or a moderate presence of people, which could suggest commercial use. Damage is assessed primarily on the roof, where visible breaks or the presence of blue mesh/shade cloth indicate damage.\n",
    "- **Damaged Residential Building:** This class applies to buildings used solely for domestic purposes that show structural damage. Identification involves examining the surrounding area for characteristics -  - Undamaged Commercial Building: This class refers to commercially used buildings without visible structural damage. Identification criteria include the presence of parking or some level of people activity around the building, suggesting commercial use, without any apparent damage.\n",
    "- **Undamaged Residential Building:** This class denotes buildings used for domestic purposes without visible structural damage. To identify these buildings, we look for features like significant land or adjacent houses with similar structures, indicative of residential use, and the absence of apparent damage."
   ]
  },
  {
   "cell_type": "markdown",
   "metadata": {
    "id": "dfd9454e-4f30-497d-a6f8-c5ca642c51b6"
   },
   "source": [
    "#### Generating Train and Valid Data"
   ]
  },
  {
   "cell_type": "markdown",
   "metadata": {},
   "source": [
    "We will use the labelme2yolo tool to convert LabelMe format annotations to YOLO format, which is required by our object detection model. This tool takes as input a directory containing the annotation JSON files and produces the text files necessary for training and testing the model.\n",
    "\n",
    "This code was used to generate the .txt label data. Subsequently, we imported this data into Roboflow. Since the data in Roboflow has already been processed, the code is now commented out; it is only necessary to use it when we have new label data to process."
   ]
  },
  {
   "cell_type": "code",
   "execution_count": 18,
   "metadata": {
    "id": "139d151b-277c-46cc-8765-fb6861297af1",
    "outputId": "d3040521-5ca6-4768-9363-cb3dcaadd7f9"
   },
   "outputs": [],
   "source": [
    "#!labelme2yolo --json_dir ./LABEL"
   ]
  },
  {
   "cell_type": "markdown",
   "metadata": {},
   "source": [
    "This command will run the annotation conversion in the `./LABEL` directory and generate the data files needed for training and testing the model."
   ]
  },
  {
   "cell_type": "markdown",
   "metadata": {},
   "source": [
    "### Download the dataset"
   ]
  },
  {
   "cell_type": "markdown",
   "metadata": {},
   "source": [
    "To enhance the performance and accuracy of our labeled data, we leverage Roboflow for the preparation of our training and validation datasets. Roboflow is a pivotal tool in our process, offering us the capability to refine our dataset through several critical steps:\n",
    "- **Dataset Splitting:** To ensure a robust model, we meticulously distribute our dataset into 83% for training, 9% for validation, and 8% for testing. This strategic division allows our model to learn effectively, validate its learning, and finally, be tested to gauge its real-world applicability.\n",
    "- **Preprocessing:** In our preprocessing stage, we utilize Roboflow's Auto-Orient feature, which eliminates any discrepancies caused by EXIF rotations and ensures consistent pixel orientation across all images. Additionally, we resize our images from 512x512 pixels to 640x640 pixels, optimizing them for our model without compromising on detail.\n",
    "- **Augmentation:** To further enhance our dataset and increase the model's generalizability, we implement data augmentation. By applying a horizontal flip, we effectively double our dataset's diversity, exposing our model to a wider range of scenarios and improving its ability to recognize objects under various orientations."
   ]
  },
  {
   "cell_type": "markdown",
   "metadata": {},
   "source": [
    "The dataset we obtained from Roboflow is downloaded as a zip file in the following cell."
   ]
  },
  {
   "cell_type": "code",
   "execution_count": 19,
   "metadata": {},
   "outputs": [
    {
     "name": "stdout",
     "output_type": "stream",
     "text": [
      "Downloading...\n",
      "From: https://drive.google.com/uc?id=1Ja1gpEiWbxfANLo8rAbUGhWg1Nz-9Cvp\n",
      "To: /home/jovyan/datasets.zip\n",
      "100%|██████████████████████████████████████| 22.2M/22.2M [00:00<00:00, 28.4MB/s]\n"
     ]
    }
   ],
   "source": [
    "!gdown 1Ja1gpEiWbxfANLo8rAbUGhWg1Nz-9Cvp"
   ]
  },
  {
   "cell_type": "code",
   "execution_count": 20,
   "metadata": {},
   "outputs": [],
   "source": [
    "zip_path = './datasets.zip'\n",
    "extract_dir = './EY Challenge/'\n",
    "with zipfile.ZipFile(zip_path, 'r') as zip_ref:\n",
    "    zip_ref.extractall(extract_dir)"
   ]
  },
  {
   "cell_type": "code",
   "execution_count": 21,
   "metadata": {},
   "outputs": [
    {
     "data": {
      "text/plain": [
       "'dataset.yaml'"
      ]
     },
     "execution_count": 21,
     "metadata": {},
     "output_type": "execute_result"
    }
   ],
   "source": [
    "#move dataset.yaml\n",
    "orig_path = 'EY Challenge/datasets/dataset.yaml'\n",
    "dest_path = 'dataset.yaml'\n",
    "shutil.move(orig_path, dest_path)"
   ]
  },
  {
   "cell_type": "markdown",
   "metadata": {
    "id": "846bde60-6841-4742-b94a-834e3bfc800e"
   },
   "source": [
    "## Part three\n",
    "In this part we are going to train our model and analize the results."
   ]
  },
  {
   "cell_type": "markdown",
   "metadata": {},
   "source": [
    "### Model Load\n",
    "Before starting training, we will load a pre-trained model. We will use the`YOLO` class from the Ultralytics library to load the model. We will specify the pre-trained model file as an argument."
   ]
  },
  {
   "cell_type": "code",
   "execution_count": 22,
   "metadata": {
    "id": "dab008c6-ef91-46af-89a0-9d6b7f4bda17",
    "outputId": "9931c3ae-0ac0-4400-8925-d14a7c71d460"
   },
   "outputs": [
    {
     "name": "stdout",
     "output_type": "stream",
     "text": [
      "Downloading https://github.com/ultralytics/assets/releases/download/v8.1.0/yolov8m-obb.pt to 'yolov8m-obb.pt'...\n"
     ]
    },
    {
     "data": {
      "application/vnd.jupyter.widget-view+json": {
       "model_id": "a10ef0da68f745c4b03d03b10fa309ce",
       "version_major": 2,
       "version_minor": 0
      },
      "text/plain": [
       "  0%|          | 0.00/50.8M [00:00<?, ?B/s]"
      ]
     },
     "metadata": {},
     "output_type": "display_data"
    }
   ],
   "source": [
    "#Loading the model\n",
    "model = YOLO('yolov8m-obb.pt')"
   ]
  },
  {
   "cell_type": "markdown",
   "metadata": {},
   "source": [
    "We opted for the YOLO OBB model because it is a pretrained model with a focus on bounding boxes, which are crucial for our labeling work. The OBB (Oriented Bounding Boxes) feature is particularly beneficial for identifying buildings from various angles and positions, thereby enhancing precision. Additionally, among the available YOLO OBB model variants – N, S, M, L, and X – we chose the M model. Our experiments demonstrated that the M model outperforms the others in terms of mAP (mean Average Precision), a finding supported by the documentation. This indicates that the M model generally offers superior performance.\n",
    "\n",
    "\n",
    "In addition, to trying to implement the YOLO model, we also explored the implementation of the Mask R-CNN model. After extensive research, we found that this model provided the best results in computer vision focused on satellite images. However, because the model runs on TensorFlow 1.3, we were unable to complete its implementation in the time available. Although we managed to make progress in the implementation, we fell short in time to make it fully functional. Notably, this model performs exceptionally well due to our ability to use ResNet101 as the backbone of the model."
   ]
  },
  {
   "cell_type": "code",
   "execution_count": 23,
   "metadata": {},
   "outputs": [
    {
     "name": "stdout",
     "output_type": "stream",
     "text": [
      "YOLOv8m-obb summary: 320 layers, 26425600 parameters, 0 gradients, 81.3 GFLOPs\n"
     ]
    },
    {
     "data": {
      "text/plain": [
       "(320, 26425600, 0, 81.2579712)"
      ]
     },
     "execution_count": 23,
     "metadata": {},
     "output_type": "execute_result"
    }
   ],
   "source": [
    "# Display model information (optional)\n",
    "model.info()"
   ]
  },
  {
   "cell_type": "markdown",
   "metadata": {},
   "source": [
    "This command displays detailed information about the loaded model, which can be helpful in understanding its structure and configuration.\n",
    "\n",
    "From this point, we can proceed with additional training of the model, adjusting the hyperparameters as necessary for our specific task.\n",
    "\n",
    "During the competition, different versions of yolo were tested along with the modification of different hyperparameters, such as:\n",
    "\n",
    "- `mixup`: Mix two images and their labels, creating a composite image. Enhances the model's generalization ability by introducing label noise and visual variability.\n",
    "- `erasing`: Randomly erase a part of the image during classification training, encouraging the model to focus on less obvious features for recognition.\n",
    "- `translate`: Translate the image horizontally and vertically by a fraction of the image size, which helps in learning to detect partially visible objects.\n",
    "- `scale`: Scale the image by a gain factor, simulating objects at different distances from the camera.\n",
    "- `flipud`: Flip the image with the specified probability, increasing data variability without affecting object features.\n",
    "- `fliplr`: Flip the image from left to right with the specified probability, useful for learning symmetric objects and increasing dataset diversity.\n",
    "- `mosaic`: Combine four training images into one, simulating different scene compositions and object interactions. Highly effective for understanding complex scenes\n",
    "- `degrees`: Rotate the image randomly within the specified degree range, enhancing the model's ability to recognize objects in various orientations.\n",
    "- `translate`: Translate the image horizontally and vertically by a fraction of the image size, which helps in learning to detect partially visible objects.\n",
    "\n",
    "To modify these parameters we must use them within the train function and give them a number which is in the range of the respective parameter."
   ]
  },
  {
   "cell_type": "markdown",
   "metadata": {},
   "source": [
    "### Model Training\n",
    "To train the model, we use the `train` method of the model instance, specifying the training data, the number of epochs, and the desired image size."
   ]
  },
  {
   "cell_type": "markdown",
   "metadata": {},
   "source": [
    "This command starts training the model with the following parameters:\n",
    "\n",
    "- `data`: Specifies the location of the YAML file that contains information about the training data.\n",
    "- `epochs`: Specifies the number of epochs for training.\n",
    "- `imgsz`: Specifies the size of the image to use during training.\n",
    "\n",
    "In addition to these parameters, many others can be modified, which were tested throughout the challenge. Among these is the `optimizer` which AdamW was chosen since it gave the best result, it is also the one that comes by default so there is no need to edit it in the model parameters.\n",
    "\n",
    "Another parameter which was tried to modify is Learning rate, in yolo we have 2 types of modifiable learning rate. One is the `lr0` which is the initial learning rate which influences the speed with which the weights of the model are updated and the another is the `lrf` which is the Final Learning Rate used to adjust the learning rate over time.\n"
   ]
  },
  {
   "cell_type": "code",
   "execution_count": 24,
   "metadata": {
    "id": "a69a3a70-bc5e-4c83-91ee-440ffe4b90bb",
    "outputId": "c87b4893-a6e4-465b-fd5f-700b08e5eb2a"
   },
   "outputs": [
    {
     "name": "stdout",
     "output_type": "stream",
     "text": [
      "Ultralytics YOLOv8.1.29 🚀 Python-3.9.13 torch-1.12.1.post200 CUDA:0 (Tesla T4, 15978MiB)\n",
      "WARNING ⚠️ Upgrade to torch>=2.0.0 for deterministic training.\n",
      "\u001b[34m\u001b[1mengine/trainer: \u001b[0mtask=obb, mode=train, model=yolov8m-obb.pt, data=./dataset.yaml, epochs=85, time=None, patience=100, batch=16, imgsz=640, save=True, save_period=-1, cache=False, device=None, workers=8, project=None, name=train, exist_ok=False, pretrained=True, optimizer=auto, verbose=True, seed=0, deterministic=True, single_cls=False, rect=False, cos_lr=False, close_mosaic=10, resume=False, amp=True, fraction=1.0, profile=False, freeze=None, multi_scale=False, overlap_mask=True, mask_ratio=4, dropout=0.0, val=True, split=val, save_json=False, save_hybrid=False, conf=None, iou=0.7, max_det=300, half=False, dnn=False, plots=True, source=None, vid_stride=1, stream_buffer=False, visualize=False, augment=False, agnostic_nms=False, classes=None, retina_masks=False, embed=None, show=False, save_frames=False, save_txt=False, save_conf=False, save_crop=False, show_labels=True, show_conf=True, show_boxes=True, line_width=None, format=torchscript, keras=False, optimize=False, int8=False, dynamic=False, simplify=False, opset=None, workspace=4, nms=False, lr0=0.01, lrf=0.01, momentum=0.937, weight_decay=0.0005, warmup_epochs=3.0, warmup_momentum=0.8, warmup_bias_lr=0.1, box=7.5, cls=0.5, dfl=1.5, pose=12.0, kobj=1.0, label_smoothing=0.0, nbs=64, hsv_h=0.015, hsv_s=0.7, hsv_v=0.4, degrees=0.0, translate=0.1, scale=0.5, shear=0.0, perspective=0.0, flipud=0.0, fliplr=0.5, mosaic=1.0, mixup=0.0, copy_paste=0.0, auto_augment=randaugment, erasing=0.4, crop_fraction=1.0, cfg=None, tracker=botsort.yaml, save_dir=runs/obb/train\n",
      "Overriding model.yaml nc=15 with nc=4\n",
      "\n",
      "                   from  n    params  module                                       arguments                     \n",
      "  0                  -1  1      1392  ultralytics.nn.modules.conv.Conv             [3, 48, 3, 2]                 \n",
      "  1                  -1  1     41664  ultralytics.nn.modules.conv.Conv             [48, 96, 3, 2]                \n",
      "  2                  -1  2    111360  ultralytics.nn.modules.block.C2f             [96, 96, 2, True]             \n",
      "  3                  -1  1    166272  ultralytics.nn.modules.conv.Conv             [96, 192, 3, 2]               \n",
      "  4                  -1  4    813312  ultralytics.nn.modules.block.C2f             [192, 192, 4, True]           \n",
      "  5                  -1  1    664320  ultralytics.nn.modules.conv.Conv             [192, 384, 3, 2]              \n",
      "  6                  -1  4   3248640  ultralytics.nn.modules.block.C2f             [384, 384, 4, True]           \n",
      "  7                  -1  1   1991808  ultralytics.nn.modules.conv.Conv             [384, 576, 3, 2]              \n",
      "  8                  -1  2   3985920  ultralytics.nn.modules.block.C2f             [576, 576, 2, True]           \n",
      "  9                  -1  1    831168  ultralytics.nn.modules.block.SPPF            [576, 576, 5]                 \n",
      " 10                  -1  1         0  torch.nn.modules.upsampling.Upsample         [None, 2, 'nearest']          \n",
      " 11             [-1, 6]  1         0  ultralytics.nn.modules.conv.Concat           [1]                           \n",
      " 12                  -1  2   1993728  ultralytics.nn.modules.block.C2f             [960, 384, 2]                 \n",
      " 13                  -1  1         0  torch.nn.modules.upsampling.Upsample         [None, 2, 'nearest']          \n",
      " 14             [-1, 4]  1         0  ultralytics.nn.modules.conv.Concat           [1]                           \n",
      " 15                  -1  2    517632  ultralytics.nn.modules.block.C2f             [576, 192, 2]                 \n",
      " 16                  -1  1    332160  ultralytics.nn.modules.conv.Conv             [192, 192, 3, 2]              \n",
      " 17            [-1, 12]  1         0  ultralytics.nn.modules.conv.Concat           [1]                           \n",
      " 18                  -1  2   1846272  ultralytics.nn.modules.block.C2f             [576, 384, 2]                 \n",
      " 19                  -1  1   1327872  ultralytics.nn.modules.conv.Conv             [384, 384, 3, 2]              \n",
      " 20             [-1, 9]  1         0  ultralytics.nn.modules.conv.Concat           [1]                           \n",
      " 21                  -1  2   4207104  ultralytics.nn.modules.block.C2f             [960, 576, 2]                 \n",
      " 22        [15, 18, 21]  1   4338607  ultralytics.nn.modules.head.OBB              [4, 1, [192, 384, 576]]       \n",
      "YOLOv8m-obb summary: 320 layers, 26419231 parameters, 26419215 gradients, 81.2 GFLOPs\n",
      "\n",
      "Transferred 511/517 items from pretrained weights\n",
      "\u001b[34m\u001b[1mTensorBoard: \u001b[0mStart with 'tensorboard --logdir runs/obb/train', view at http://localhost:6006/\n",
      "Freezing layer 'model.22.dfl.conv.weight'\n",
      "\u001b[34m\u001b[1mAMP: \u001b[0mrunning Automatic Mixed Precision (AMP) checks with YOLOv8n...\n",
      "Downloading https://github.com/ultralytics/assets/releases/download/v8.1.0/yolov8n.pt to 'yolov8n.pt'...\n"
     ]
    },
    {
     "data": {
      "application/vnd.jupyter.widget-view+json": {
       "model_id": "debf97a8dc0a48489a6c6ceb7cf0acdd",
       "version_major": 2,
       "version_minor": 0
      },
      "text/plain": [
       "  0%|          | 0.00/6.23M [00:00<?, ?B/s]"
      ]
     },
     "metadata": {},
     "output_type": "display_data"
    },
    {
     "name": "stdout",
     "output_type": "stream",
     "text": [
      "\u001b[34m\u001b[1mAMP: \u001b[0mchecks passed ✅\n"
     ]
    },
    {
     "name": "stderr",
     "output_type": "stream",
     "text": [
      "\u001b[34m\u001b[1mtrain: \u001b[0mScanning /home/jovyan/EY Challenge/datasets/train... 290 images, 2 backgrounds, 0 corrupt: 100%|██████████| 290/290 [00:00<00:00, 1431.58it/s]"
     ]
    },
    {
     "name": "stdout",
     "output_type": "stream",
     "text": [
      "\u001b[34m\u001b[1mtrain: \u001b[0mNew cache created: /home/jovyan/EY Challenge/datasets/train.cache\n"
     ]
    },
    {
     "name": "stderr",
     "output_type": "stream",
     "text": [
      "\n",
      "\u001b[34m\u001b[1mval: \u001b[0mScanning /home/jovyan/EY Challenge/datasets/val... 20 images, 0 backgrounds, 0 corrupt: 100%|██████████| 20/20 [00:00<00:00, 1411.37it/s]"
     ]
    },
    {
     "name": "stdout",
     "output_type": "stream",
     "text": [
      "\u001b[34m\u001b[1mval: \u001b[0mNew cache created: /home/jovyan/EY Challenge/datasets/val.cache\n"
     ]
    },
    {
     "name": "stderr",
     "output_type": "stream",
     "text": [
      "\n"
     ]
    },
    {
     "name": "stdout",
     "output_type": "stream",
     "text": [
      "Plotting labels to runs/obb/train/labels.jpg... \n",
      "\u001b[34m\u001b[1moptimizer:\u001b[0m 'optimizer=auto' found, ignoring 'lr0=0.01' and 'momentum=0.937' and determining best 'optimizer', 'lr0' and 'momentum' automatically... \n",
      "\u001b[34m\u001b[1moptimizer:\u001b[0m AdamW(lr=0.00125, momentum=0.9) with parameter groups 83 weight(decay=0.0), 93 weight(decay=0.0005), 92 bias(decay=0.0)\n",
      "\u001b[34m\u001b[1mTensorBoard: \u001b[0mmodel graph visualization added ✅\n",
      "Image sizes 640 train, 640 val\n",
      "Using 4 dataloader workers\n",
      "Logging results to \u001b[1mruns/obb/train\u001b[0m\n",
      "Starting training for 85 epochs...\n",
      "\n",
      "      Epoch    GPU_mem   box_loss   cls_loss   dfl_loss  Instances       Size\n"
     ]
    },
    {
     "name": "stderr",
     "output_type": "stream",
     "text": [
      "       1/85      7.41G      1.479      3.223      2.161         15        640: 100%|██████████| 19/19 [00:09<00:00,  2.03it/s]\n",
      "                 Class     Images  Instances      Box(P          R      mAP50  mAP50-95): 100%|██████████| 2/2 [00:01<00:00,  1.08it/s]"
     ]
    },
    {
     "name": "stdout",
     "output_type": "stream",
     "text": [
      "                   all         20        247      0.446      0.589      0.268      0.177\n"
     ]
    },
    {
     "name": "stderr",
     "output_type": "stream",
     "text": [
      "\n"
     ]
    },
    {
     "name": "stdout",
     "output_type": "stream",
     "text": [
      "\n",
      "      Epoch    GPU_mem   box_loss   cls_loss   dfl_loss  Instances       Size\n"
     ]
    },
    {
     "name": "stderr",
     "output_type": "stream",
     "text": [
      "       2/85      7.67G      1.074      1.741      1.663         50        640: 100%|██████████| 19/19 [00:08<00:00,  2.26it/s]\n",
      "                 Class     Images  Instances      Box(P          R      mAP50  mAP50-95): 100%|██████████| 2/2 [00:00<00:00,  2.34it/s]"
     ]
    },
    {
     "name": "stdout",
     "output_type": "stream",
     "text": [
      "                   all         20        247      0.214      0.768      0.286      0.213\n"
     ]
    },
    {
     "name": "stderr",
     "output_type": "stream",
     "text": [
      "\n"
     ]
    },
    {
     "name": "stdout",
     "output_type": "stream",
     "text": [
      "\n",
      "      Epoch    GPU_mem   box_loss   cls_loss   dfl_loss  Instances       Size\n"
     ]
    },
    {
     "name": "stderr",
     "output_type": "stream",
     "text": [
      "       3/85      7.67G      1.001      1.497      1.598         50        640: 100%|██████████| 19/19 [00:08<00:00,  2.24it/s]\n",
      "                 Class     Images  Instances      Box(P          R      mAP50  mAP50-95): 100%|██████████| 2/2 [00:00<00:00,  2.42it/s]"
     ]
    },
    {
     "name": "stdout",
     "output_type": "stream",
     "text": [
      "                   all         20        247      0.298      0.577      0.387        0.3\n"
     ]
    },
    {
     "name": "stderr",
     "output_type": "stream",
     "text": [
      "\n"
     ]
    },
    {
     "name": "stdout",
     "output_type": "stream",
     "text": [
      "\n",
      "      Epoch    GPU_mem   box_loss   cls_loss   dfl_loss  Instances       Size\n"
     ]
    },
    {
     "name": "stderr",
     "output_type": "stream",
     "text": [
      "       4/85      7.54G     0.9554      1.394      1.636         39        640: 100%|██████████| 19/19 [00:08<00:00,  2.25it/s]\n",
      "                 Class     Images  Instances      Box(P          R      mAP50  mAP50-95): 100%|██████████| 2/2 [00:00<00:00,  2.68it/s]"
     ]
    },
    {
     "name": "stdout",
     "output_type": "stream",
     "text": [
      "                   all         20        247      0.483       0.51      0.424      0.319\n"
     ]
    },
    {
     "name": "stderr",
     "output_type": "stream",
     "text": [
      "\n"
     ]
    },
    {
     "name": "stdout",
     "output_type": "stream",
     "text": [
      "\n",
      "      Epoch    GPU_mem   box_loss   cls_loss   dfl_loss  Instances       Size\n"
     ]
    },
    {
     "name": "stderr",
     "output_type": "stream",
     "text": [
      "       5/85      7.71G      0.887      1.274      1.546         45        640: 100%|██████████| 19/19 [00:08<00:00,  2.25it/s]\n",
      "                 Class     Images  Instances      Box(P          R      mAP50  mAP50-95): 100%|██████████| 2/2 [00:00<00:00,  3.49it/s]"
     ]
    },
    {
     "name": "stdout",
     "output_type": "stream",
     "text": [
      "                   all         20        247      0.637      0.502      0.475      0.364\n"
     ]
    },
    {
     "name": "stderr",
     "output_type": "stream",
     "text": [
      "\n"
     ]
    },
    {
     "name": "stdout",
     "output_type": "stream",
     "text": [
      "\n",
      "      Epoch    GPU_mem   box_loss   cls_loss   dfl_loss  Instances       Size\n"
     ]
    },
    {
     "name": "stderr",
     "output_type": "stream",
     "text": [
      "       6/85      7.51G     0.9095      1.289      1.577         82        640: 100%|██████████| 19/19 [00:08<00:00,  2.24it/s]\n",
      "                 Class     Images  Instances      Box(P          R      mAP50  mAP50-95): 100%|██████████| 2/2 [00:00<00:00,  3.92it/s]"
     ]
    },
    {
     "name": "stdout",
     "output_type": "stream",
     "text": [
      "                   all         20        247      0.277      0.746       0.32      0.231\n"
     ]
    },
    {
     "name": "stderr",
     "output_type": "stream",
     "text": [
      "\n"
     ]
    },
    {
     "name": "stdout",
     "output_type": "stream",
     "text": [
      "\n",
      "      Epoch    GPU_mem   box_loss   cls_loss   dfl_loss  Instances       Size\n"
     ]
    },
    {
     "name": "stderr",
     "output_type": "stream",
     "text": [
      "       7/85      7.68G     0.8593      1.238       1.52         31        640: 100%|██████████| 19/19 [00:08<00:00,  2.25it/s]\n",
      "                 Class     Images  Instances      Box(P          R      mAP50  mAP50-95): 100%|██████████| 2/2 [00:00<00:00,  4.40it/s]"
     ]
    },
    {
     "name": "stdout",
     "output_type": "stream",
     "text": [
      "                   all         20        247       0.37      0.564      0.429      0.315\n"
     ]
    },
    {
     "name": "stderr",
     "output_type": "stream",
     "text": [
      "\n"
     ]
    },
    {
     "name": "stdout",
     "output_type": "stream",
     "text": [
      "\n",
      "      Epoch    GPU_mem   box_loss   cls_loss   dfl_loss  Instances       Size\n"
     ]
    },
    {
     "name": "stderr",
     "output_type": "stream",
     "text": [
      "       8/85       7.7G     0.8395      1.146      1.567         17        640: 100%|██████████| 19/19 [00:08<00:00,  2.24it/s]\n",
      "                 Class     Images  Instances      Box(P          R      mAP50  mAP50-95): 100%|██████████| 2/2 [00:00<00:00,  5.03it/s]"
     ]
    },
    {
     "name": "stdout",
     "output_type": "stream",
     "text": [
      "                   all         20        247      0.345      0.687      0.462       0.35\n"
     ]
    },
    {
     "name": "stderr",
     "output_type": "stream",
     "text": [
      "\n"
     ]
    },
    {
     "name": "stdout",
     "output_type": "stream",
     "text": [
      "\n",
      "      Epoch    GPU_mem   box_loss   cls_loss   dfl_loss  Instances       Size\n"
     ]
    },
    {
     "name": "stderr",
     "output_type": "stream",
     "text": [
      "       9/85      7.54G     0.8266      1.041      1.521         29        640: 100%|██████████| 19/19 [00:08<00:00,  2.24it/s]\n",
      "                 Class     Images  Instances      Box(P          R      mAP50  mAP50-95): 100%|██████████| 2/2 [00:00<00:00,  4.95it/s]"
     ]
    },
    {
     "name": "stdout",
     "output_type": "stream",
     "text": [
      "                   all         20        247      0.298      0.612      0.408      0.304\n"
     ]
    },
    {
     "name": "stderr",
     "output_type": "stream",
     "text": [
      "\n"
     ]
    },
    {
     "name": "stdout",
     "output_type": "stream",
     "text": [
      "\n",
      "      Epoch    GPU_mem   box_loss   cls_loss   dfl_loss  Instances       Size\n"
     ]
    },
    {
     "name": "stderr",
     "output_type": "stream",
     "text": [
      "      10/85       7.7G     0.8173      1.024      1.536         14        640: 100%|██████████| 19/19 [00:08<00:00,  2.22it/s]\n",
      "                 Class     Images  Instances      Box(P          R      mAP50  mAP50-95): 100%|██████████| 2/2 [00:00<00:00,  5.57it/s]"
     ]
    },
    {
     "name": "stdout",
     "output_type": "stream",
     "text": [
      "                   all         20        247      0.294      0.657      0.438      0.328\n"
     ]
    },
    {
     "name": "stderr",
     "output_type": "stream",
     "text": [
      "\n"
     ]
    },
    {
     "name": "stdout",
     "output_type": "stream",
     "text": [
      "\n",
      "      Epoch    GPU_mem   box_loss   cls_loss   dfl_loss  Instances       Size\n"
     ]
    },
    {
     "name": "stderr",
     "output_type": "stream",
     "text": [
      "      11/85      7.71G     0.8066       1.06      1.576         27        640: 100%|██████████| 19/19 [00:08<00:00,  2.22it/s]\n",
      "                 Class     Images  Instances      Box(P          R      mAP50  mAP50-95): 100%|██████████| 2/2 [00:00<00:00,  4.82it/s]"
     ]
    },
    {
     "name": "stdout",
     "output_type": "stream",
     "text": [
      "                   all         20        247      0.389      0.596       0.45      0.333\n"
     ]
    },
    {
     "name": "stderr",
     "output_type": "stream",
     "text": [
      "\n"
     ]
    },
    {
     "name": "stdout",
     "output_type": "stream",
     "text": [
      "\n",
      "      Epoch    GPU_mem   box_loss   cls_loss   dfl_loss  Instances       Size\n"
     ]
    },
    {
     "name": "stderr",
     "output_type": "stream",
     "text": [
      "      12/85      7.66G     0.7681     0.9721      1.478         26        640: 100%|██████████| 19/19 [00:08<00:00,  2.21it/s]\n",
      "                 Class     Images  Instances      Box(P          R      mAP50  mAP50-95): 100%|██████████| 2/2 [00:00<00:00,  5.66it/s]"
     ]
    },
    {
     "name": "stdout",
     "output_type": "stream",
     "text": [
      "                   all         20        247      0.436      0.396      0.408      0.313\n"
     ]
    },
    {
     "name": "stderr",
     "output_type": "stream",
     "text": [
      "\n"
     ]
    },
    {
     "name": "stdout",
     "output_type": "stream",
     "text": [
      "\n",
      "      Epoch    GPU_mem   box_loss   cls_loss   dfl_loss  Instances       Size\n"
     ]
    },
    {
     "name": "stderr",
     "output_type": "stream",
     "text": [
      "      13/85       7.6G     0.7504      0.938      1.427         40        640: 100%|██████████| 19/19 [00:08<00:00,  2.21it/s]\n",
      "                 Class     Images  Instances      Box(P          R      mAP50  mAP50-95): 100%|██████████| 2/2 [00:00<00:00,  5.93it/s]"
     ]
    },
    {
     "name": "stdout",
     "output_type": "stream",
     "text": [
      "                   all         20        247      0.635      0.493      0.468      0.366\n"
     ]
    },
    {
     "name": "stderr",
     "output_type": "stream",
     "text": [
      "\n"
     ]
    },
    {
     "name": "stdout",
     "output_type": "stream",
     "text": [
      "\n",
      "      Epoch    GPU_mem   box_loss   cls_loss   dfl_loss  Instances       Size\n"
     ]
    },
    {
     "name": "stderr",
     "output_type": "stream",
     "text": [
      "      14/85       7.7G     0.7728     0.9244      1.543         25        640: 100%|██████████| 19/19 [00:08<00:00,  2.21it/s]\n",
      "                 Class     Images  Instances      Box(P          R      mAP50  mAP50-95): 100%|██████████| 2/2 [00:00<00:00,  5.93it/s]"
     ]
    },
    {
     "name": "stdout",
     "output_type": "stream",
     "text": [
      "                   all         20        247      0.444      0.576      0.479      0.366\n"
     ]
    },
    {
     "name": "stderr",
     "output_type": "stream",
     "text": [
      "\n"
     ]
    },
    {
     "name": "stdout",
     "output_type": "stream",
     "text": [
      "\n",
      "      Epoch    GPU_mem   box_loss   cls_loss   dfl_loss  Instances       Size\n"
     ]
    },
    {
     "name": "stderr",
     "output_type": "stream",
     "text": [
      "      15/85      7.68G     0.7383     0.8629       1.47         33        640: 100%|██████████| 19/19 [00:08<00:00,  2.20it/s]\n",
      "                 Class     Images  Instances      Box(P          R      mAP50  mAP50-95): 100%|██████████| 2/2 [00:00<00:00,  6.08it/s]"
     ]
    },
    {
     "name": "stdout",
     "output_type": "stream",
     "text": [
      "                   all         20        247      0.348      0.507      0.403      0.299\n"
     ]
    },
    {
     "name": "stderr",
     "output_type": "stream",
     "text": [
      "\n"
     ]
    },
    {
     "name": "stdout",
     "output_type": "stream",
     "text": [
      "\n",
      "      Epoch    GPU_mem   box_loss   cls_loss   dfl_loss  Instances       Size\n"
     ]
    },
    {
     "name": "stderr",
     "output_type": "stream",
     "text": [
      "      16/85      7.71G     0.7495     0.8592      1.447         78        640: 100%|██████████| 19/19 [00:08<00:00,  2.19it/s]\n",
      "                 Class     Images  Instances      Box(P          R      mAP50  mAP50-95): 100%|██████████| 2/2 [00:00<00:00,  6.19it/s]"
     ]
    },
    {
     "name": "stdout",
     "output_type": "stream",
     "text": [
      "                   all         20        247      0.743      0.392      0.416      0.324\n"
     ]
    },
    {
     "name": "stderr",
     "output_type": "stream",
     "text": [
      "\n"
     ]
    },
    {
     "name": "stdout",
     "output_type": "stream",
     "text": [
      "\n",
      "      Epoch    GPU_mem   box_loss   cls_loss   dfl_loss  Instances       Size\n"
     ]
    },
    {
     "name": "stderr",
     "output_type": "stream",
     "text": [
      "      17/85      7.66G     0.7025        0.8      1.466         33        640: 100%|██████████| 19/19 [00:08<00:00,  2.20it/s]\n",
      "                 Class     Images  Instances      Box(P          R      mAP50  mAP50-95): 100%|██████████| 2/2 [00:00<00:00,  6.07it/s]"
     ]
    },
    {
     "name": "stdout",
     "output_type": "stream",
     "text": [
      "                   all         20        247      0.482      0.495      0.434      0.327\n"
     ]
    },
    {
     "name": "stderr",
     "output_type": "stream",
     "text": [
      "\n"
     ]
    },
    {
     "name": "stdout",
     "output_type": "stream",
     "text": [
      "\n",
      "      Epoch    GPU_mem   box_loss   cls_loss   dfl_loss  Instances       Size\n"
     ]
    },
    {
     "name": "stderr",
     "output_type": "stream",
     "text": [
      "      18/85      7.64G     0.7163     0.7635      1.469         33        640: 100%|██████████| 19/19 [00:08<00:00,  2.18it/s]\n",
      "                 Class     Images  Instances      Box(P          R      mAP50  mAP50-95): 100%|██████████| 2/2 [00:00<00:00,  5.96it/s]"
     ]
    },
    {
     "name": "stdout",
     "output_type": "stream",
     "text": [
      "                   all         20        247      0.316      0.586      0.421      0.313\n"
     ]
    },
    {
     "name": "stderr",
     "output_type": "stream",
     "text": [
      "\n"
     ]
    },
    {
     "name": "stdout",
     "output_type": "stream",
     "text": [
      "\n",
      "      Epoch    GPU_mem   box_loss   cls_loss   dfl_loss  Instances       Size\n"
     ]
    },
    {
     "name": "stderr",
     "output_type": "stream",
     "text": [
      "      19/85      7.66G     0.7286     0.7926      1.515         18        640: 100%|██████████| 19/19 [00:08<00:00,  2.17it/s]\n",
      "                 Class     Images  Instances      Box(P          R      mAP50  mAP50-95): 100%|██████████| 2/2 [00:00<00:00,  6.10it/s]"
     ]
    },
    {
     "name": "stdout",
     "output_type": "stream",
     "text": [
      "                   all         20        247      0.455      0.522      0.473      0.353\n"
     ]
    },
    {
     "name": "stderr",
     "output_type": "stream",
     "text": [
      "\n"
     ]
    },
    {
     "name": "stdout",
     "output_type": "stream",
     "text": [
      "\n",
      "      Epoch    GPU_mem   box_loss   cls_loss   dfl_loss  Instances       Size\n"
     ]
    },
    {
     "name": "stderr",
     "output_type": "stream",
     "text": [
      "      20/85      7.71G     0.7186     0.7577      1.485         17        640: 100%|██████████| 19/19 [00:08<00:00,  2.18it/s]\n",
      "                 Class     Images  Instances      Box(P          R      mAP50  mAP50-95): 100%|██████████| 2/2 [00:00<00:00,  6.11it/s]"
     ]
    },
    {
     "name": "stdout",
     "output_type": "stream",
     "text": [
      "                   all         20        247      0.467      0.488      0.469      0.364\n"
     ]
    },
    {
     "name": "stderr",
     "output_type": "stream",
     "text": [
      "\n"
     ]
    },
    {
     "name": "stdout",
     "output_type": "stream",
     "text": [
      "\n",
      "      Epoch    GPU_mem   box_loss   cls_loss   dfl_loss  Instances       Size\n"
     ]
    },
    {
     "name": "stderr",
     "output_type": "stream",
     "text": [
      "      21/85      7.53G     0.6889     0.7282      1.448         55        640: 100%|██████████| 19/19 [00:08<00:00,  2.17it/s]\n",
      "                 Class     Images  Instances      Box(P          R      mAP50  mAP50-95): 100%|██████████| 2/2 [00:00<00:00,  6.01it/s]"
     ]
    },
    {
     "name": "stdout",
     "output_type": "stream",
     "text": [
      "                   all         20        247      0.394      0.606      0.452       0.34\n"
     ]
    },
    {
     "name": "stderr",
     "output_type": "stream",
     "text": [
      "\n"
     ]
    },
    {
     "name": "stdout",
     "output_type": "stream",
     "text": [
      "\n",
      "      Epoch    GPU_mem   box_loss   cls_loss   dfl_loss  Instances       Size\n"
     ]
    },
    {
     "name": "stderr",
     "output_type": "stream",
     "text": [
      "      22/85      7.68G     0.6744     0.6724      1.436         22        640: 100%|██████████| 19/19 [00:08<00:00,  2.15it/s]\n",
      "                 Class     Images  Instances      Box(P          R      mAP50  mAP50-95): 100%|██████████| 2/2 [00:00<00:00,  6.31it/s]"
     ]
    },
    {
     "name": "stdout",
     "output_type": "stream",
     "text": [
      "                   all         20        247      0.569      0.476      0.531      0.399\n"
     ]
    },
    {
     "name": "stderr",
     "output_type": "stream",
     "text": [
      "\n"
     ]
    },
    {
     "name": "stdout",
     "output_type": "stream",
     "text": [
      "\n",
      "      Epoch    GPU_mem   box_loss   cls_loss   dfl_loss  Instances       Size\n"
     ]
    },
    {
     "name": "stderr",
     "output_type": "stream",
     "text": [
      "      23/85      7.65G     0.6742     0.6791      1.455         16        640: 100%|██████████| 19/19 [00:08<00:00,  2.16it/s]\n",
      "                 Class     Images  Instances      Box(P          R      mAP50  mAP50-95): 100%|██████████| 2/2 [00:00<00:00,  6.03it/s]"
     ]
    },
    {
     "name": "stdout",
     "output_type": "stream",
     "text": [
      "                   all         20        247      0.408      0.658      0.468      0.366\n"
     ]
    },
    {
     "name": "stderr",
     "output_type": "stream",
     "text": [
      "\n"
     ]
    },
    {
     "name": "stdout",
     "output_type": "stream",
     "text": [
      "\n",
      "      Epoch    GPU_mem   box_loss   cls_loss   dfl_loss  Instances       Size\n"
     ]
    },
    {
     "name": "stderr",
     "output_type": "stream",
     "text": [
      "      24/85      7.65G     0.6605     0.6701      1.464         39        640: 100%|██████████| 19/19 [00:08<00:00,  2.15it/s]\n",
      "                 Class     Images  Instances      Box(P          R      mAP50  mAP50-95): 100%|██████████| 2/2 [00:00<00:00,  6.19it/s]"
     ]
    },
    {
     "name": "stdout",
     "output_type": "stream",
     "text": [
      "                   all         20        247      0.381      0.583      0.415      0.316\n"
     ]
    },
    {
     "name": "stderr",
     "output_type": "stream",
     "text": [
      "\n"
     ]
    },
    {
     "name": "stdout",
     "output_type": "stream",
     "text": [
      "\n",
      "      Epoch    GPU_mem   box_loss   cls_loss   dfl_loss  Instances       Size\n"
     ]
    },
    {
     "name": "stderr",
     "output_type": "stream",
     "text": [
      "      25/85      7.64G     0.6353     0.6407      1.422         64        640: 100%|██████████| 19/19 [00:08<00:00,  2.15it/s]\n",
      "                 Class     Images  Instances      Box(P          R      mAP50  mAP50-95): 100%|██████████| 2/2 [00:00<00:00,  6.08it/s]"
     ]
    },
    {
     "name": "stdout",
     "output_type": "stream",
     "text": [
      "                   all         20        247      0.407      0.617      0.454      0.352\n"
     ]
    },
    {
     "name": "stderr",
     "output_type": "stream",
     "text": [
      "\n"
     ]
    },
    {
     "name": "stdout",
     "output_type": "stream",
     "text": [
      "\n",
      "      Epoch    GPU_mem   box_loss   cls_loss   dfl_loss  Instances       Size\n"
     ]
    },
    {
     "name": "stderr",
     "output_type": "stream",
     "text": [
      "      26/85      7.53G     0.6308     0.6323      1.407         45        640: 100%|██████████| 19/19 [00:08<00:00,  2.15it/s]\n",
      "                 Class     Images  Instances      Box(P          R      mAP50  mAP50-95): 100%|██████████| 2/2 [00:00<00:00,  6.37it/s]"
     ]
    },
    {
     "name": "stdout",
     "output_type": "stream",
     "text": [
      "                   all         20        247      0.525      0.502      0.493      0.383\n"
     ]
    },
    {
     "name": "stderr",
     "output_type": "stream",
     "text": [
      "\n"
     ]
    },
    {
     "name": "stdout",
     "output_type": "stream",
     "text": [
      "\n",
      "      Epoch    GPU_mem   box_loss   cls_loss   dfl_loss  Instances       Size\n"
     ]
    },
    {
     "name": "stderr",
     "output_type": "stream",
     "text": [
      "      27/85      7.67G      0.633     0.6039       1.43         60        640: 100%|██████████| 19/19 [00:08<00:00,  2.14it/s]\n",
      "                 Class     Images  Instances      Box(P          R      mAP50  mAP50-95): 100%|██████████| 2/2 [00:00<00:00,  6.17it/s]"
     ]
    },
    {
     "name": "stdout",
     "output_type": "stream",
     "text": [
      "                   all         20        247      0.379      0.627       0.41      0.311\n"
     ]
    },
    {
     "name": "stderr",
     "output_type": "stream",
     "text": [
      "\n"
     ]
    },
    {
     "name": "stdout",
     "output_type": "stream",
     "text": [
      "\n",
      "      Epoch    GPU_mem   box_loss   cls_loss   dfl_loss  Instances       Size\n"
     ]
    },
    {
     "name": "stderr",
     "output_type": "stream",
     "text": [
      "      28/85      7.53G     0.6262      0.571      1.437         23        640: 100%|██████████| 19/19 [00:08<00:00,  2.14it/s]\n",
      "                 Class     Images  Instances      Box(P          R      mAP50  mAP50-95): 100%|██████████| 2/2 [00:00<00:00,  6.39it/s]"
     ]
    },
    {
     "name": "stdout",
     "output_type": "stream",
     "text": [
      "                   all         20        247      0.475       0.59      0.501      0.387\n"
     ]
    },
    {
     "name": "stderr",
     "output_type": "stream",
     "text": [
      "\n"
     ]
    },
    {
     "name": "stdout",
     "output_type": "stream",
     "text": [
      "\n",
      "      Epoch    GPU_mem   box_loss   cls_loss   dfl_loss  Instances       Size\n"
     ]
    },
    {
     "name": "stderr",
     "output_type": "stream",
     "text": [
      "      29/85       7.7G     0.6101     0.5604      1.419         45        640: 100%|██████████| 19/19 [00:08<00:00,  2.14it/s]\n",
      "                 Class     Images  Instances      Box(P          R      mAP50  mAP50-95): 100%|██████████| 2/2 [00:00<00:00,  6.36it/s]"
     ]
    },
    {
     "name": "stdout",
     "output_type": "stream",
     "text": [
      "                   all         20        247      0.412       0.59       0.45      0.351\n"
     ]
    },
    {
     "name": "stderr",
     "output_type": "stream",
     "text": [
      "\n"
     ]
    },
    {
     "name": "stdout",
     "output_type": "stream",
     "text": [
      "\n",
      "      Epoch    GPU_mem   box_loss   cls_loss   dfl_loss  Instances       Size\n"
     ]
    },
    {
     "name": "stderr",
     "output_type": "stream",
     "text": [
      "      30/85      7.52G     0.6123     0.5708      1.422         35        640: 100%|██████████| 19/19 [00:08<00:00,  2.13it/s]\n",
      "                 Class     Images  Instances      Box(P          R      mAP50  mAP50-95): 100%|██████████| 2/2 [00:00<00:00,  6.36it/s]"
     ]
    },
    {
     "name": "stdout",
     "output_type": "stream",
     "text": [
      "                   all         20        247       0.49      0.471      0.482      0.372\n"
     ]
    },
    {
     "name": "stderr",
     "output_type": "stream",
     "text": [
      "\n"
     ]
    },
    {
     "name": "stdout",
     "output_type": "stream",
     "text": [
      "\n",
      "      Epoch    GPU_mem   box_loss   cls_loss   dfl_loss  Instances       Size\n"
     ]
    },
    {
     "name": "stderr",
     "output_type": "stream",
     "text": [
      "      31/85      7.66G     0.5922     0.5515      1.419         49        640: 100%|██████████| 19/19 [00:08<00:00,  2.13it/s]\n",
      "                 Class     Images  Instances      Box(P          R      mAP50  mAP50-95): 100%|██████████| 2/2 [00:00<00:00,  6.29it/s]"
     ]
    },
    {
     "name": "stdout",
     "output_type": "stream",
     "text": [
      "                   all         20        247      0.504      0.472      0.478      0.378\n"
     ]
    },
    {
     "name": "stderr",
     "output_type": "stream",
     "text": [
      "\n"
     ]
    },
    {
     "name": "stdout",
     "output_type": "stream",
     "text": [
      "\n",
      "      Epoch    GPU_mem   box_loss   cls_loss   dfl_loss  Instances       Size\n"
     ]
    },
    {
     "name": "stderr",
     "output_type": "stream",
     "text": [
      "      32/85      7.64G     0.5876      0.538       1.42         13        640: 100%|██████████| 19/19 [00:08<00:00,  2.13it/s]\n",
      "                 Class     Images  Instances      Box(P          R      mAP50  mAP50-95): 100%|██████████| 2/2 [00:00<00:00,  6.32it/s]"
     ]
    },
    {
     "name": "stdout",
     "output_type": "stream",
     "text": [
      "                   all         20        247      0.482      0.466      0.438      0.343\n"
     ]
    },
    {
     "name": "stderr",
     "output_type": "stream",
     "text": [
      "\n"
     ]
    },
    {
     "name": "stdout",
     "output_type": "stream",
     "text": [
      "\n",
      "      Epoch    GPU_mem   box_loss   cls_loss   dfl_loss  Instances       Size\n"
     ]
    },
    {
     "name": "stderr",
     "output_type": "stream",
     "text": [
      "      33/85       7.7G     0.5818     0.5307      1.411         18        640: 100%|██████████| 19/19 [00:08<00:00,  2.13it/s]\n",
      "                 Class     Images  Instances      Box(P          R      mAP50  mAP50-95): 100%|██████████| 2/2 [00:00<00:00,  6.37it/s]"
     ]
    },
    {
     "name": "stdout",
     "output_type": "stream",
     "text": [
      "                   all         20        247      0.451        0.5      0.452      0.348\n"
     ]
    },
    {
     "name": "stderr",
     "output_type": "stream",
     "text": [
      "\n"
     ]
    },
    {
     "name": "stdout",
     "output_type": "stream",
     "text": [
      "\n",
      "      Epoch    GPU_mem   box_loss   cls_loss   dfl_loss  Instances       Size\n"
     ]
    },
    {
     "name": "stderr",
     "output_type": "stream",
     "text": [
      "      34/85       7.7G     0.5694     0.5126      1.382         13        640: 100%|██████████| 19/19 [00:08<00:00,  2.13it/s]\n",
      "                 Class     Images  Instances      Box(P          R      mAP50  mAP50-95): 100%|██████████| 2/2 [00:00<00:00,  6.33it/s]"
     ]
    },
    {
     "name": "stdout",
     "output_type": "stream",
     "text": [
      "                   all         20        247      0.464      0.401      0.359      0.266\n"
     ]
    },
    {
     "name": "stderr",
     "output_type": "stream",
     "text": [
      "\n"
     ]
    },
    {
     "name": "stdout",
     "output_type": "stream",
     "text": [
      "\n",
      "      Epoch    GPU_mem   box_loss   cls_loss   dfl_loss  Instances       Size\n"
     ]
    },
    {
     "name": "stderr",
     "output_type": "stream",
     "text": [
      "      35/85      7.67G      0.584     0.5233      1.401         24        640: 100%|██████████| 19/19 [00:08<00:00,  2.12it/s]\n",
      "                 Class     Images  Instances      Box(P          R      mAP50  mAP50-95): 100%|██████████| 2/2 [00:00<00:00,  6.18it/s]"
     ]
    },
    {
     "name": "stdout",
     "output_type": "stream",
     "text": [
      "                   all         20        247       0.44      0.482      0.409      0.317\n"
     ]
    },
    {
     "name": "stderr",
     "output_type": "stream",
     "text": [
      "\n"
     ]
    },
    {
     "name": "stdout",
     "output_type": "stream",
     "text": [
      "\n",
      "      Epoch    GPU_mem   box_loss   cls_loss   dfl_loss  Instances       Size\n"
     ]
    },
    {
     "name": "stderr",
     "output_type": "stream",
     "text": [
      "      36/85      7.66G     0.5667     0.5001      1.378         39        640: 100%|██████████| 19/19 [00:08<00:00,  2.12it/s]\n",
      "                 Class     Images  Instances      Box(P          R      mAP50  mAP50-95): 100%|██████████| 2/2 [00:00<00:00,  6.38it/s]"
     ]
    },
    {
     "name": "stdout",
     "output_type": "stream",
     "text": [
      "                   all         20        247      0.422      0.504       0.45      0.357\n"
     ]
    },
    {
     "name": "stderr",
     "output_type": "stream",
     "text": [
      "\n"
     ]
    },
    {
     "name": "stdout",
     "output_type": "stream",
     "text": [
      "\n",
      "      Epoch    GPU_mem   box_loss   cls_loss   dfl_loss  Instances       Size\n"
     ]
    },
    {
     "name": "stderr",
     "output_type": "stream",
     "text": [
      "      37/85      7.68G     0.5447     0.4805       1.39         24        640: 100%|██████████| 19/19 [00:08<00:00,  2.12it/s]\n",
      "                 Class     Images  Instances      Box(P          R      mAP50  mAP50-95): 100%|██████████| 2/2 [00:00<00:00,  6.28it/s]"
     ]
    },
    {
     "name": "stdout",
     "output_type": "stream",
     "text": [
      "                   all         20        247      0.355      0.601      0.427      0.334\n"
     ]
    },
    {
     "name": "stderr",
     "output_type": "stream",
     "text": [
      "\n"
     ]
    },
    {
     "name": "stdout",
     "output_type": "stream",
     "text": [
      "\n",
      "      Epoch    GPU_mem   box_loss   cls_loss   dfl_loss  Instances       Size\n"
     ]
    },
    {
     "name": "stderr",
     "output_type": "stream",
     "text": [
      "      38/85      7.65G     0.5339     0.4668      1.386         38        640: 100%|██████████| 19/19 [00:08<00:00,  2.12it/s]\n",
      "                 Class     Images  Instances      Box(P          R      mAP50  mAP50-95): 100%|██████████| 2/2 [00:00<00:00,  6.32it/s]"
     ]
    },
    {
     "name": "stdout",
     "output_type": "stream",
     "text": [
      "                   all         20        247      0.463      0.517      0.442      0.337\n"
     ]
    },
    {
     "name": "stderr",
     "output_type": "stream",
     "text": [
      "\n"
     ]
    },
    {
     "name": "stdout",
     "output_type": "stream",
     "text": [
      "\n",
      "      Epoch    GPU_mem   box_loss   cls_loss   dfl_loss  Instances       Size\n"
     ]
    },
    {
     "name": "stderr",
     "output_type": "stream",
     "text": [
      "      39/85      7.68G      0.547     0.4675      1.403         29        640: 100%|██████████| 19/19 [00:08<00:00,  2.12it/s]\n",
      "                 Class     Images  Instances      Box(P          R      mAP50  mAP50-95): 100%|██████████| 2/2 [00:00<00:00,  6.34it/s]"
     ]
    },
    {
     "name": "stdout",
     "output_type": "stream",
     "text": [
      "                   all         20        247      0.469      0.526      0.442       0.34\n"
     ]
    },
    {
     "name": "stderr",
     "output_type": "stream",
     "text": [
      "\n"
     ]
    },
    {
     "name": "stdout",
     "output_type": "stream",
     "text": [
      "\n",
      "      Epoch    GPU_mem   box_loss   cls_loss   dfl_loss  Instances       Size\n"
     ]
    },
    {
     "name": "stderr",
     "output_type": "stream",
     "text": [
      "      40/85      7.68G     0.5362     0.4666      1.406         27        640: 100%|██████████| 19/19 [00:09<00:00,  2.11it/s]\n",
      "                 Class     Images  Instances      Box(P          R      mAP50  mAP50-95): 100%|██████████| 2/2 [00:00<00:00,  6.15it/s]"
     ]
    },
    {
     "name": "stdout",
     "output_type": "stream",
     "text": [
      "                   all         20        247      0.435       0.49      0.452      0.359\n"
     ]
    },
    {
     "name": "stderr",
     "output_type": "stream",
     "text": [
      "\n"
     ]
    },
    {
     "name": "stdout",
     "output_type": "stream",
     "text": [
      "\n",
      "      Epoch    GPU_mem   box_loss   cls_loss   dfl_loss  Instances       Size\n"
     ]
    },
    {
     "name": "stderr",
     "output_type": "stream",
     "text": [
      "      41/85      7.54G     0.5444     0.4724      1.396         73        640: 100%|██████████| 19/19 [00:08<00:00,  2.12it/s]\n",
      "                 Class     Images  Instances      Box(P          R      mAP50  mAP50-95): 100%|██████████| 2/2 [00:00<00:00,  6.39it/s]"
     ]
    },
    {
     "name": "stdout",
     "output_type": "stream",
     "text": [
      "                   all         20        247      0.491      0.572      0.519      0.415\n"
     ]
    },
    {
     "name": "stderr",
     "output_type": "stream",
     "text": [
      "\n"
     ]
    },
    {
     "name": "stdout",
     "output_type": "stream",
     "text": [
      "\n",
      "      Epoch    GPU_mem   box_loss   cls_loss   dfl_loss  Instances       Size\n"
     ]
    },
    {
     "name": "stderr",
     "output_type": "stream",
     "text": [
      "      42/85      7.65G     0.5453     0.4743       1.42         19        640: 100%|██████████| 19/19 [00:08<00:00,  2.11it/s]\n",
      "                 Class     Images  Instances      Box(P          R      mAP50  mAP50-95): 100%|██████████| 2/2 [00:00<00:00,  6.45it/s]"
     ]
    },
    {
     "name": "stdout",
     "output_type": "stream",
     "text": [
      "                   all         20        247      0.466      0.642      0.517      0.412\n"
     ]
    },
    {
     "name": "stderr",
     "output_type": "stream",
     "text": [
      "\n"
     ]
    },
    {
     "name": "stdout",
     "output_type": "stream",
     "text": [
      "\n",
      "      Epoch    GPU_mem   box_loss   cls_loss   dfl_loss  Instances       Size\n"
     ]
    },
    {
     "name": "stderr",
     "output_type": "stream",
     "text": [
      "      43/85      7.71G     0.5124     0.4362      1.391         48        640: 100%|██████████| 19/19 [00:08<00:00,  2.12it/s]\n",
      "                 Class     Images  Instances      Box(P          R      mAP50  mAP50-95): 100%|██████████| 2/2 [00:00<00:00,  6.37it/s]"
     ]
    },
    {
     "name": "stdout",
     "output_type": "stream",
     "text": [
      "                   all         20        247      0.438      0.581       0.48      0.381\n"
     ]
    },
    {
     "name": "stderr",
     "output_type": "stream",
     "text": [
      "\n"
     ]
    },
    {
     "name": "stdout",
     "output_type": "stream",
     "text": [
      "\n",
      "      Epoch    GPU_mem   box_loss   cls_loss   dfl_loss  Instances       Size\n"
     ]
    },
    {
     "name": "stderr",
     "output_type": "stream",
     "text": [
      "      44/85       7.7G     0.5148     0.5037      1.367          2        640: 100%|██████████| 19/19 [00:08<00:00,  2.12it/s]\n",
      "                 Class     Images  Instances      Box(P          R      mAP50  mAP50-95): 100%|██████████| 2/2 [00:00<00:00,  6.45it/s]"
     ]
    },
    {
     "name": "stdout",
     "output_type": "stream",
     "text": [
      "                   all         20        247      0.471      0.443      0.429      0.335\n"
     ]
    },
    {
     "name": "stderr",
     "output_type": "stream",
     "text": [
      "\n"
     ]
    },
    {
     "name": "stdout",
     "output_type": "stream",
     "text": [
      "\n",
      "      Epoch    GPU_mem   box_loss   cls_loss   dfl_loss  Instances       Size\n"
     ]
    },
    {
     "name": "stderr",
     "output_type": "stream",
     "text": [
      "      45/85      7.67G      0.484     0.4046      1.348         46        640: 100%|██████████| 19/19 [00:08<00:00,  2.12it/s]\n",
      "                 Class     Images  Instances      Box(P          R      mAP50  mAP50-95): 100%|██████████| 2/2 [00:00<00:00,  6.34it/s]"
     ]
    },
    {
     "name": "stdout",
     "output_type": "stream",
     "text": [
      "                   all         20        247      0.459      0.536      0.474      0.373\n"
     ]
    },
    {
     "name": "stderr",
     "output_type": "stream",
     "text": [
      "\n"
     ]
    },
    {
     "name": "stdout",
     "output_type": "stream",
     "text": [
      "\n",
      "      Epoch    GPU_mem   box_loss   cls_loss   dfl_loss  Instances       Size\n"
     ]
    },
    {
     "name": "stderr",
     "output_type": "stream",
     "text": [
      "      46/85      7.68G     0.5187     0.4322      1.399         24        640: 100%|██████████| 19/19 [00:08<00:00,  2.12it/s]\n",
      "                 Class     Images  Instances      Box(P          R      mAP50  mAP50-95): 100%|██████████| 2/2 [00:00<00:00,  6.17it/s]"
     ]
    },
    {
     "name": "stdout",
     "output_type": "stream",
     "text": [
      "                   all         20        247      0.569      0.481      0.518        0.4\n"
     ]
    },
    {
     "name": "stderr",
     "output_type": "stream",
     "text": [
      "\n"
     ]
    },
    {
     "name": "stdout",
     "output_type": "stream",
     "text": [
      "\n",
      "      Epoch    GPU_mem   box_loss   cls_loss   dfl_loss  Instances       Size\n"
     ]
    },
    {
     "name": "stderr",
     "output_type": "stream",
     "text": [
      "      47/85      7.66G      0.505     0.4207      1.393         49        640: 100%|██████████| 19/19 [00:08<00:00,  2.11it/s]\n",
      "                 Class     Images  Instances      Box(P          R      mAP50  mAP50-95): 100%|██████████| 2/2 [00:00<00:00,  6.41it/s]"
     ]
    },
    {
     "name": "stdout",
     "output_type": "stream",
     "text": [
      "                   all         20        247      0.423      0.572      0.487      0.392\n"
     ]
    },
    {
     "name": "stderr",
     "output_type": "stream",
     "text": [
      "\n"
     ]
    },
    {
     "name": "stdout",
     "output_type": "stream",
     "text": [
      "\n",
      "      Epoch    GPU_mem   box_loss   cls_loss   dfl_loss  Instances       Size\n"
     ]
    },
    {
     "name": "stderr",
     "output_type": "stream",
     "text": [
      "      48/85      7.69G     0.4951     0.4072      1.347         62        640: 100%|██████████| 19/19 [00:09<00:00,  2.11it/s]\n",
      "                 Class     Images  Instances      Box(P          R      mAP50  mAP50-95): 100%|██████████| 2/2 [00:00<00:00,  6.44it/s]"
     ]
    },
    {
     "name": "stdout",
     "output_type": "stream",
     "text": [
      "                   all         20        247      0.462      0.576      0.529      0.414\n"
     ]
    },
    {
     "name": "stderr",
     "output_type": "stream",
     "text": [
      "\n"
     ]
    },
    {
     "name": "stdout",
     "output_type": "stream",
     "text": [
      "\n",
      "      Epoch    GPU_mem   box_loss   cls_loss   dfl_loss  Instances       Size\n"
     ]
    },
    {
     "name": "stderr",
     "output_type": "stream",
     "text": [
      "      49/85      7.65G     0.4975       0.41      1.356         45        640: 100%|██████████| 19/19 [00:08<00:00,  2.12it/s]\n",
      "                 Class     Images  Instances      Box(P          R      mAP50  mAP50-95): 100%|██████████| 2/2 [00:00<00:00,  6.37it/s]"
     ]
    },
    {
     "name": "stdout",
     "output_type": "stream",
     "text": [
      "                   all         20        247      0.443      0.546      0.471      0.368\n"
     ]
    },
    {
     "name": "stderr",
     "output_type": "stream",
     "text": [
      "\n"
     ]
    },
    {
     "name": "stdout",
     "output_type": "stream",
     "text": [
      "\n",
      "      Epoch    GPU_mem   box_loss   cls_loss   dfl_loss  Instances       Size\n"
     ]
    },
    {
     "name": "stderr",
     "output_type": "stream",
     "text": [
      "      50/85      7.65G     0.5026     0.4033      1.376         29        640: 100%|██████████| 19/19 [00:08<00:00,  2.12it/s]\n",
      "                 Class     Images  Instances      Box(P          R      mAP50  mAP50-95): 100%|██████████| 2/2 [00:00<00:00,  6.35it/s]"
     ]
    },
    {
     "name": "stdout",
     "output_type": "stream",
     "text": [
      "                   all         20        247      0.508      0.562      0.486      0.385\n"
     ]
    },
    {
     "name": "stderr",
     "output_type": "stream",
     "text": [
      "\n"
     ]
    },
    {
     "name": "stdout",
     "output_type": "stream",
     "text": [
      "\n",
      "      Epoch    GPU_mem   box_loss   cls_loss   dfl_loss  Instances       Size\n"
     ]
    },
    {
     "name": "stderr",
     "output_type": "stream",
     "text": [
      "      51/85      7.66G     0.4795     0.3938      1.366         30        640: 100%|██████████| 19/19 [00:08<00:00,  2.12it/s]\n",
      "                 Class     Images  Instances      Box(P          R      mAP50  mAP50-95): 100%|██████████| 2/2 [00:00<00:00,  6.36it/s]"
     ]
    },
    {
     "name": "stdout",
     "output_type": "stream",
     "text": [
      "                   all         20        247      0.439      0.574      0.497      0.393\n"
     ]
    },
    {
     "name": "stderr",
     "output_type": "stream",
     "text": [
      "\n"
     ]
    },
    {
     "name": "stdout",
     "output_type": "stream",
     "text": [
      "\n",
      "      Epoch    GPU_mem   box_loss   cls_loss   dfl_loss  Instances       Size\n"
     ]
    },
    {
     "name": "stderr",
     "output_type": "stream",
     "text": [
      "      52/85      7.71G       0.47     0.3899      1.373         51        640: 100%|██████████| 19/19 [00:08<00:00,  2.11it/s]\n",
      "                 Class     Images  Instances      Box(P          R      mAP50  mAP50-95): 100%|██████████| 2/2 [00:00<00:00,  6.50it/s]"
     ]
    },
    {
     "name": "stdout",
     "output_type": "stream",
     "text": [
      "                   all         20        247      0.504      0.587      0.537      0.416\n"
     ]
    },
    {
     "name": "stderr",
     "output_type": "stream",
     "text": [
      "\n"
     ]
    },
    {
     "name": "stdout",
     "output_type": "stream",
     "text": [
      "\n",
      "      Epoch    GPU_mem   box_loss   cls_loss   dfl_loss  Instances       Size\n"
     ]
    },
    {
     "name": "stderr",
     "output_type": "stream",
     "text": [
      "      53/85       7.7G     0.4666       0.39       1.38         23        640: 100%|██████████| 19/19 [00:08<00:00,  2.12it/s]\n",
      "                 Class     Images  Instances      Box(P          R      mAP50  mAP50-95): 100%|██████████| 2/2 [00:00<00:00,  6.42it/s]"
     ]
    },
    {
     "name": "stdout",
     "output_type": "stream",
     "text": [
      "                   all         20        247      0.497      0.569      0.526      0.417\n"
     ]
    },
    {
     "name": "stderr",
     "output_type": "stream",
     "text": [
      "\n"
     ]
    },
    {
     "name": "stdout",
     "output_type": "stream",
     "text": [
      "\n",
      "      Epoch    GPU_mem   box_loss   cls_loss   dfl_loss  Instances       Size\n"
     ]
    },
    {
     "name": "stderr",
     "output_type": "stream",
     "text": [
      "      54/85      7.71G     0.4533      0.378      1.359         53        640: 100%|██████████| 19/19 [00:08<00:00,  2.13it/s]\n",
      "                 Class     Images  Instances      Box(P          R      mAP50  mAP50-95): 100%|██████████| 2/2 [00:00<00:00,  6.25it/s]"
     ]
    },
    {
     "name": "stdout",
     "output_type": "stream",
     "text": [
      "                   all         20        247      0.747      0.429      0.531      0.418\n"
     ]
    },
    {
     "name": "stderr",
     "output_type": "stream",
     "text": [
      "\n"
     ]
    },
    {
     "name": "stdout",
     "output_type": "stream",
     "text": [
      "\n",
      "      Epoch    GPU_mem   box_loss   cls_loss   dfl_loss  Instances       Size\n"
     ]
    },
    {
     "name": "stderr",
     "output_type": "stream",
     "text": [
      "      55/85      7.67G     0.4613     0.3689      1.348         53        640: 100%|██████████| 19/19 [00:08<00:00,  2.12it/s]\n",
      "                 Class     Images  Instances      Box(P          R      mAP50  mAP50-95): 100%|██████████| 2/2 [00:00<00:00,  6.42it/s]"
     ]
    },
    {
     "name": "stdout",
     "output_type": "stream",
     "text": [
      "                   all         20        247      0.495      0.492      0.474      0.387\n"
     ]
    },
    {
     "name": "stderr",
     "output_type": "stream",
     "text": [
      "\n"
     ]
    },
    {
     "name": "stdout",
     "output_type": "stream",
     "text": [
      "\n",
      "      Epoch    GPU_mem   box_loss   cls_loss   dfl_loss  Instances       Size\n"
     ]
    },
    {
     "name": "stderr",
     "output_type": "stream",
     "text": [
      "      56/85      7.66G     0.4554     0.3677      1.363         61        640: 100%|██████████| 19/19 [00:08<00:00,  2.12it/s]\n",
      "                 Class     Images  Instances      Box(P          R      mAP50  mAP50-95): 100%|██████████| 2/2 [00:00<00:00,  6.48it/s]"
     ]
    },
    {
     "name": "stdout",
     "output_type": "stream",
     "text": [
      "                   all         20        247      0.541      0.494      0.496      0.395\n"
     ]
    },
    {
     "name": "stderr",
     "output_type": "stream",
     "text": [
      "\n"
     ]
    },
    {
     "name": "stdout",
     "output_type": "stream",
     "text": [
      "\n",
      "      Epoch    GPU_mem   box_loss   cls_loss   dfl_loss  Instances       Size\n"
     ]
    },
    {
     "name": "stderr",
     "output_type": "stream",
     "text": [
      "      57/85      7.54G     0.4299     0.3647      1.369         20        640: 100%|██████████| 19/19 [00:08<00:00,  2.12it/s]\n",
      "                 Class     Images  Instances      Box(P          R      mAP50  mAP50-95): 100%|██████████| 2/2 [00:00<00:00,  6.42it/s]"
     ]
    },
    {
     "name": "stdout",
     "output_type": "stream",
     "text": [
      "                   all         20        247      0.552      0.471      0.502        0.4\n"
     ]
    },
    {
     "name": "stderr",
     "output_type": "stream",
     "text": [
      "\n"
     ]
    },
    {
     "name": "stdout",
     "output_type": "stream",
     "text": [
      "\n",
      "      Epoch    GPU_mem   box_loss   cls_loss   dfl_loss  Instances       Size\n"
     ]
    },
    {
     "name": "stderr",
     "output_type": "stream",
     "text": [
      "      58/85      7.71G     0.4474      0.365      1.353         16        640: 100%|██████████| 19/19 [00:08<00:00,  2.12it/s]\n",
      "                 Class     Images  Instances      Box(P          R      mAP50  mAP50-95): 100%|██████████| 2/2 [00:00<00:00,  6.37it/s]"
     ]
    },
    {
     "name": "stdout",
     "output_type": "stream",
     "text": [
      "                   all         20        247      0.448      0.525      0.485      0.383\n"
     ]
    },
    {
     "name": "stderr",
     "output_type": "stream",
     "text": [
      "\n"
     ]
    },
    {
     "name": "stdout",
     "output_type": "stream",
     "text": [
      "\n",
      "      Epoch    GPU_mem   box_loss   cls_loss   dfl_loss  Instances       Size\n"
     ]
    },
    {
     "name": "stderr",
     "output_type": "stream",
     "text": [
      "      59/85      7.53G     0.4405     0.3503      1.353         39        640: 100%|██████████| 19/19 [00:09<00:00,  2.11it/s]\n",
      "                 Class     Images  Instances      Box(P          R      mAP50  mAP50-95): 100%|██████████| 2/2 [00:00<00:00,  6.35it/s]"
     ]
    },
    {
     "name": "stdout",
     "output_type": "stream",
     "text": [
      "                   all         20        247      0.462      0.503      0.456       0.36\n"
     ]
    },
    {
     "name": "stderr",
     "output_type": "stream",
     "text": [
      "\n"
     ]
    },
    {
     "name": "stdout",
     "output_type": "stream",
     "text": [
      "\n",
      "      Epoch    GPU_mem   box_loss   cls_loss   dfl_loss  Instances       Size\n"
     ]
    },
    {
     "name": "stderr",
     "output_type": "stream",
     "text": [
      "      60/85      7.54G     0.4344     0.3501      1.355         45        640: 100%|██████████| 19/19 [00:09<00:00,  2.10it/s]\n",
      "                 Class     Images  Instances      Box(P          R      mAP50  mAP50-95): 100%|██████████| 2/2 [00:00<00:00,  6.46it/s]"
     ]
    },
    {
     "name": "stdout",
     "output_type": "stream",
     "text": [
      "                   all         20        247       0.39      0.574      0.441      0.346\n"
     ]
    },
    {
     "name": "stderr",
     "output_type": "stream",
     "text": [
      "\n"
     ]
    },
    {
     "name": "stdout",
     "output_type": "stream",
     "text": [
      "\n",
      "      Epoch    GPU_mem   box_loss   cls_loss   dfl_loss  Instances       Size\n"
     ]
    },
    {
     "name": "stderr",
     "output_type": "stream",
     "text": [
      "      61/85      7.71G     0.4095     0.3228      1.326         31        640: 100%|██████████| 19/19 [00:08<00:00,  2.12it/s]\n",
      "                 Class     Images  Instances      Box(P          R      mAP50  mAP50-95): 100%|██████████| 2/2 [00:00<00:00,  6.44it/s]"
     ]
    },
    {
     "name": "stdout",
     "output_type": "stream",
     "text": [
      "                   all         20        247      0.513      0.543      0.463      0.369\n"
     ]
    },
    {
     "name": "stderr",
     "output_type": "stream",
     "text": [
      "\n"
     ]
    },
    {
     "name": "stdout",
     "output_type": "stream",
     "text": [
      "\n",
      "      Epoch    GPU_mem   box_loss   cls_loss   dfl_loss  Instances       Size\n"
     ]
    },
    {
     "name": "stderr",
     "output_type": "stream",
     "text": [
      "      62/85      7.67G      0.431     0.3634      1.387         20        640: 100%|██████████| 19/19 [00:09<00:00,  2.11it/s]\n",
      "                 Class     Images  Instances      Box(P          R      mAP50  mAP50-95): 100%|██████████| 2/2 [00:00<00:00,  6.36it/s]"
     ]
    },
    {
     "name": "stdout",
     "output_type": "stream",
     "text": [
      "                   all         20        247      0.439      0.453      0.417      0.326\n"
     ]
    },
    {
     "name": "stderr",
     "output_type": "stream",
     "text": [
      "\n"
     ]
    },
    {
     "name": "stdout",
     "output_type": "stream",
     "text": [
      "\n",
      "      Epoch    GPU_mem   box_loss   cls_loss   dfl_loss  Instances       Size\n"
     ]
    },
    {
     "name": "stderr",
     "output_type": "stream",
     "text": [
      "      63/85      7.65G      0.432     0.3778      1.405          9        640: 100%|██████████| 19/19 [00:09<00:00,  2.11it/s]\n",
      "                 Class     Images  Instances      Box(P          R      mAP50  mAP50-95): 100%|██████████| 2/2 [00:00<00:00,  6.38it/s]"
     ]
    },
    {
     "name": "stdout",
     "output_type": "stream",
     "text": [
      "                   all         20        247      0.476      0.464      0.435      0.341\n"
     ]
    },
    {
     "name": "stderr",
     "output_type": "stream",
     "text": [
      "\n"
     ]
    },
    {
     "name": "stdout",
     "output_type": "stream",
     "text": [
      "\n",
      "      Epoch    GPU_mem   box_loss   cls_loss   dfl_loss  Instances       Size\n"
     ]
    },
    {
     "name": "stderr",
     "output_type": "stream",
     "text": [
      "      64/85      7.69G     0.4087     0.3307      1.355         24        640: 100%|██████████| 19/19 [00:09<00:00,  2.10it/s]\n",
      "                 Class     Images  Instances      Box(P          R      mAP50  mAP50-95): 100%|██████████| 2/2 [00:00<00:00,  6.39it/s]"
     ]
    },
    {
     "name": "stdout",
     "output_type": "stream",
     "text": [
      "                   all         20        247      0.463       0.53      0.467      0.369\n"
     ]
    },
    {
     "name": "stderr",
     "output_type": "stream",
     "text": [
      "\n"
     ]
    },
    {
     "name": "stdout",
     "output_type": "stream",
     "text": [
      "\n",
      "      Epoch    GPU_mem   box_loss   cls_loss   dfl_loss  Instances       Size\n"
     ]
    },
    {
     "name": "stderr",
     "output_type": "stream",
     "text": [
      "      65/85      7.72G     0.4114     0.3365      1.347         71        640: 100%|██████████| 19/19 [00:08<00:00,  2.12it/s]\n",
      "                 Class     Images  Instances      Box(P          R      mAP50  mAP50-95): 100%|██████████| 2/2 [00:00<00:00,  6.42it/s]"
     ]
    },
    {
     "name": "stdout",
     "output_type": "stream",
     "text": [
      "                   all         20        247      0.475      0.541      0.438      0.341\n"
     ]
    },
    {
     "name": "stderr",
     "output_type": "stream",
     "text": [
      "\n"
     ]
    },
    {
     "name": "stdout",
     "output_type": "stream",
     "text": [
      "\n",
      "      Epoch    GPU_mem   box_loss   cls_loss   dfl_loss  Instances       Size\n"
     ]
    },
    {
     "name": "stderr",
     "output_type": "stream",
     "text": [
      "      66/85      7.65G     0.4181     0.3431      1.347         64        640: 100%|██████████| 19/19 [00:09<00:00,  2.11it/s]\n",
      "                 Class     Images  Instances      Box(P          R      mAP50  mAP50-95): 100%|██████████| 2/2 [00:00<00:00,  6.41it/s]"
     ]
    },
    {
     "name": "stdout",
     "output_type": "stream",
     "text": [
      "                   all         20        247      0.375      0.603      0.462      0.369\n"
     ]
    },
    {
     "name": "stderr",
     "output_type": "stream",
     "text": [
      "\n"
     ]
    },
    {
     "name": "stdout",
     "output_type": "stream",
     "text": [
      "\n",
      "      Epoch    GPU_mem   box_loss   cls_loss   dfl_loss  Instances       Size\n"
     ]
    },
    {
     "name": "stderr",
     "output_type": "stream",
     "text": [
      "      67/85      7.54G     0.4081     0.3299      1.352         48        640: 100%|██████████| 19/19 [00:09<00:00,  2.10it/s]\n",
      "                 Class     Images  Instances      Box(P          R      mAP50  mAP50-95): 100%|██████████| 2/2 [00:00<00:00,  6.37it/s]"
     ]
    },
    {
     "name": "stdout",
     "output_type": "stream",
     "text": [
      "                   all         20        247      0.402      0.571      0.433      0.337\n"
     ]
    },
    {
     "name": "stderr",
     "output_type": "stream",
     "text": [
      "\n"
     ]
    },
    {
     "name": "stdout",
     "output_type": "stream",
     "text": [
      "\n",
      "      Epoch    GPU_mem   box_loss   cls_loss   dfl_loss  Instances       Size\n"
     ]
    },
    {
     "name": "stderr",
     "output_type": "stream",
     "text": [
      "      68/85      7.65G     0.4008     0.3244      1.335         20        640: 100%|██████████| 19/19 [00:09<00:00,  2.10it/s]\n",
      "                 Class     Images  Instances      Box(P          R      mAP50  mAP50-95): 100%|██████████| 2/2 [00:00<00:00,  6.44it/s]"
     ]
    },
    {
     "name": "stdout",
     "output_type": "stream",
     "text": [
      "                   all         20        247      0.413      0.661      0.448      0.353\n"
     ]
    },
    {
     "name": "stderr",
     "output_type": "stream",
     "text": [
      "\n"
     ]
    },
    {
     "name": "stdout",
     "output_type": "stream",
     "text": [
      "\n",
      "      Epoch    GPU_mem   box_loss   cls_loss   dfl_loss  Instances       Size\n"
     ]
    },
    {
     "name": "stderr",
     "output_type": "stream",
     "text": [
      "      69/85      7.68G     0.3849     0.3147      1.331         39        640: 100%|██████████| 19/19 [00:09<00:00,  2.11it/s]\n",
      "                 Class     Images  Instances      Box(P          R      mAP50  mAP50-95): 100%|██████████| 2/2 [00:00<00:00,  6.43it/s]"
     ]
    },
    {
     "name": "stdout",
     "output_type": "stream",
     "text": [
      "                   all         20        247      0.398      0.592      0.486      0.381\n"
     ]
    },
    {
     "name": "stderr",
     "output_type": "stream",
     "text": [
      "\n"
     ]
    },
    {
     "name": "stdout",
     "output_type": "stream",
     "text": [
      "\n",
      "      Epoch    GPU_mem   box_loss   cls_loss   dfl_loss  Instances       Size\n"
     ]
    },
    {
     "name": "stderr",
     "output_type": "stream",
     "text": [
      "      70/85      7.54G     0.3848     0.3144      1.352         37        640: 100%|██████████| 19/19 [00:09<00:00,  2.10it/s]\n",
      "                 Class     Images  Instances      Box(P          R      mAP50  mAP50-95): 100%|██████████| 2/2 [00:00<00:00,  6.39it/s]"
     ]
    },
    {
     "name": "stdout",
     "output_type": "stream",
     "text": [
      "                   all         20        247      0.471      0.501      0.496      0.394\n"
     ]
    },
    {
     "name": "stderr",
     "output_type": "stream",
     "text": [
      "\n"
     ]
    },
    {
     "name": "stdout",
     "output_type": "stream",
     "text": [
      "\n",
      "      Epoch    GPU_mem   box_loss   cls_loss   dfl_loss  Instances       Size\n"
     ]
    },
    {
     "name": "stderr",
     "output_type": "stream",
     "text": [
      "      71/85      7.69G     0.4041     0.3242      1.357         31        640: 100%|██████████| 19/19 [00:09<00:00,  2.11it/s]\n",
      "                 Class     Images  Instances      Box(P          R      mAP50  mAP50-95): 100%|██████████| 2/2 [00:00<00:00,  6.51it/s]"
     ]
    },
    {
     "name": "stdout",
     "output_type": "stream",
     "text": [
      "                   all         20        247       0.48      0.476      0.469      0.366\n"
     ]
    },
    {
     "name": "stderr",
     "output_type": "stream",
     "text": [
      "\n"
     ]
    },
    {
     "name": "stdout",
     "output_type": "stream",
     "text": [
      "\n",
      "      Epoch    GPU_mem   box_loss   cls_loss   dfl_loss  Instances       Size\n"
     ]
    },
    {
     "name": "stderr",
     "output_type": "stream",
     "text": [
      "      72/85      7.65G     0.3928     0.3226      1.356         19        640: 100%|██████████| 19/19 [00:09<00:00,  2.10it/s]\n",
      "                 Class     Images  Instances      Box(P          R      mAP50  mAP50-95): 100%|██████████| 2/2 [00:00<00:00,  6.45it/s]"
     ]
    },
    {
     "name": "stdout",
     "output_type": "stream",
     "text": [
      "                   all         20        247      0.484      0.499        0.5      0.395\n"
     ]
    },
    {
     "name": "stderr",
     "output_type": "stream",
     "text": [
      "\n"
     ]
    },
    {
     "name": "stdout",
     "output_type": "stream",
     "text": [
      "\n",
      "      Epoch    GPU_mem   box_loss   cls_loss   dfl_loss  Instances       Size\n"
     ]
    },
    {
     "name": "stderr",
     "output_type": "stream",
     "text": [
      "      73/85      7.65G      0.383     0.3176      1.358         34        640: 100%|██████████| 19/19 [00:09<00:00,  2.11it/s]\n",
      "                 Class     Images  Instances      Box(P          R      mAP50  mAP50-95): 100%|██████████| 2/2 [00:00<00:00,  6.38it/s]"
     ]
    },
    {
     "name": "stdout",
     "output_type": "stream",
     "text": [
      "                   all         20        247      0.501      0.504      0.485      0.381\n"
     ]
    },
    {
     "name": "stderr",
     "output_type": "stream",
     "text": [
      "\n"
     ]
    },
    {
     "name": "stdout",
     "output_type": "stream",
     "text": [
      "\n",
      "      Epoch    GPU_mem   box_loss   cls_loss   dfl_loss  Instances       Size\n"
     ]
    },
    {
     "name": "stderr",
     "output_type": "stream",
     "text": [
      "      74/85      7.68G     0.3824     0.3024      1.357         22        640: 100%|██████████| 19/19 [00:09<00:00,  2.11it/s]\n",
      "                 Class     Images  Instances      Box(P          R      mAP50  mAP50-95): 100%|██████████| 2/2 [00:00<00:00,  6.38it/s]"
     ]
    },
    {
     "name": "stdout",
     "output_type": "stream",
     "text": [
      "                   all         20        247      0.533      0.535      0.484      0.381\n"
     ]
    },
    {
     "name": "stderr",
     "output_type": "stream",
     "text": [
      "\n"
     ]
    },
    {
     "name": "stdout",
     "output_type": "stream",
     "text": [
      "\n",
      "      Epoch    GPU_mem   box_loss   cls_loss   dfl_loss  Instances       Size\n"
     ]
    },
    {
     "name": "stderr",
     "output_type": "stream",
     "text": [
      "      75/85      7.53G     0.3678     0.3013      1.335         32        640: 100%|██████████| 19/19 [00:09<00:00,  2.10it/s]\n",
      "                 Class     Images  Instances      Box(P          R      mAP50  mAP50-95): 100%|██████████| 2/2 [00:00<00:00,  6.41it/s]"
     ]
    },
    {
     "name": "stdout",
     "output_type": "stream",
     "text": [
      "                   all         20        247      0.545      0.501      0.468       0.37\n"
     ]
    },
    {
     "name": "stderr",
     "output_type": "stream",
     "text": [
      "\n"
     ]
    },
    {
     "name": "stdout",
     "output_type": "stream",
     "text": [
      "Closing dataloader mosaic\n",
      "\n",
      "      Epoch    GPU_mem   box_loss   cls_loss   dfl_loss  Instances       Size\n"
     ]
    },
    {
     "name": "stderr",
     "output_type": "stream",
     "text": [
      "      76/85      7.68G     0.3407     0.2916      1.322         22        640: 100%|██████████| 19/19 [00:09<00:00,  2.06it/s]\n",
      "                 Class     Images  Instances      Box(P          R      mAP50  mAP50-95): 100%|██████████| 2/2 [00:00<00:00,  6.45it/s]"
     ]
    },
    {
     "name": "stdout",
     "output_type": "stream",
     "text": [
      "                   all         20        247       0.49       0.55      0.482      0.385\n"
     ]
    },
    {
     "name": "stderr",
     "output_type": "stream",
     "text": [
      "\n"
     ]
    },
    {
     "name": "stdout",
     "output_type": "stream",
     "text": [
      "\n",
      "      Epoch    GPU_mem   box_loss   cls_loss   dfl_loss  Instances       Size\n"
     ]
    },
    {
     "name": "stderr",
     "output_type": "stream",
     "text": [
      "      77/85      7.71G      0.324     0.2542       1.28         16        640: 100%|██████████| 19/19 [00:08<00:00,  2.12it/s]\n",
      "                 Class     Images  Instances      Box(P          R      mAP50  mAP50-95): 100%|██████████| 2/2 [00:00<00:00,  6.44it/s]"
     ]
    },
    {
     "name": "stdout",
     "output_type": "stream",
     "text": [
      "                   all         20        247      0.446      0.582       0.48      0.381\n"
     ]
    },
    {
     "name": "stderr",
     "output_type": "stream",
     "text": [
      "\n"
     ]
    },
    {
     "name": "stdout",
     "output_type": "stream",
     "text": [
      "\n",
      "      Epoch    GPU_mem   box_loss   cls_loss   dfl_loss  Instances       Size\n"
     ]
    },
    {
     "name": "stderr",
     "output_type": "stream",
     "text": [
      "      78/85      7.68G     0.3198     0.2545      1.299         14        640: 100%|██████████| 19/19 [00:08<00:00,  2.12it/s]\n",
      "                 Class     Images  Instances      Box(P          R      mAP50  mAP50-95): 100%|██████████| 2/2 [00:00<00:00,  6.44it/s]"
     ]
    },
    {
     "name": "stdout",
     "output_type": "stream",
     "text": [
      "                   all         20        247      0.465      0.527      0.475      0.375\n"
     ]
    },
    {
     "name": "stderr",
     "output_type": "stream",
     "text": [
      "\n"
     ]
    },
    {
     "name": "stdout",
     "output_type": "stream",
     "text": [
      "\n",
      "      Epoch    GPU_mem   box_loss   cls_loss   dfl_loss  Instances       Size\n"
     ]
    },
    {
     "name": "stderr",
     "output_type": "stream",
     "text": [
      "      79/85      7.65G     0.3016     0.2389      1.273         22        640: 100%|██████████| 19/19 [00:08<00:00,  2.11it/s]\n",
      "                 Class     Images  Instances      Box(P          R      mAP50  mAP50-95): 100%|██████████| 2/2 [00:00<00:00,  6.38it/s]"
     ]
    },
    {
     "name": "stdout",
     "output_type": "stream",
     "text": [
      "                   all         20        247      0.473      0.493      0.484      0.387\n"
     ]
    },
    {
     "name": "stderr",
     "output_type": "stream",
     "text": [
      "\n"
     ]
    },
    {
     "name": "stdout",
     "output_type": "stream",
     "text": [
      "\n",
      "      Epoch    GPU_mem   box_loss   cls_loss   dfl_loss  Instances       Size\n"
     ]
    },
    {
     "name": "stderr",
     "output_type": "stream",
     "text": [
      "      80/85      7.71G     0.3084     0.2403      1.277         42        640: 100%|██████████| 19/19 [00:08<00:00,  2.11it/s]\n",
      "                 Class     Images  Instances      Box(P          R      mAP50  mAP50-95): 100%|██████████| 2/2 [00:00<00:00,  6.48it/s]"
     ]
    },
    {
     "name": "stdout",
     "output_type": "stream",
     "text": [
      "                   all         20        247      0.496      0.488      0.491      0.389\n"
     ]
    },
    {
     "name": "stderr",
     "output_type": "stream",
     "text": [
      "\n"
     ]
    },
    {
     "name": "stdout",
     "output_type": "stream",
     "text": [
      "\n",
      "      Epoch    GPU_mem   box_loss   cls_loss   dfl_loss  Instances       Size\n"
     ]
    },
    {
     "name": "stderr",
     "output_type": "stream",
     "text": [
      "      81/85      7.71G     0.3018     0.2501       1.28          8        640: 100%|██████████| 19/19 [00:08<00:00,  2.12it/s]\n",
      "                 Class     Images  Instances      Box(P          R      mAP50  mAP50-95): 100%|██████████| 2/2 [00:00<00:00,  6.46it/s]"
     ]
    },
    {
     "name": "stdout",
     "output_type": "stream",
     "text": [
      "                   all         20        247      0.531      0.465      0.473      0.374\n"
     ]
    },
    {
     "name": "stderr",
     "output_type": "stream",
     "text": [
      "\n"
     ]
    },
    {
     "name": "stdout",
     "output_type": "stream",
     "text": [
      "\n",
      "      Epoch    GPU_mem   box_loss   cls_loss   dfl_loss  Instances       Size\n"
     ]
    },
    {
     "name": "stderr",
     "output_type": "stream",
     "text": [
      "      82/85      7.68G     0.3192     0.2502      1.306         12        640: 100%|██████████| 19/19 [00:08<00:00,  2.12it/s]\n",
      "                 Class     Images  Instances      Box(P          R      mAP50  mAP50-95): 100%|██████████| 2/2 [00:00<00:00,  6.51it/s]"
     ]
    },
    {
     "name": "stdout",
     "output_type": "stream",
     "text": [
      "                   all         20        247      0.558      0.447      0.473      0.376\n"
     ]
    },
    {
     "name": "stderr",
     "output_type": "stream",
     "text": [
      "\n"
     ]
    },
    {
     "name": "stdout",
     "output_type": "stream",
     "text": [
      "\n",
      "      Epoch    GPU_mem   box_loss   cls_loss   dfl_loss  Instances       Size\n"
     ]
    },
    {
     "name": "stderr",
     "output_type": "stream",
     "text": [
      "      83/85      7.65G     0.2799      0.222      1.257         22        640: 100%|██████████| 19/19 [00:08<00:00,  2.12it/s]\n",
      "                 Class     Images  Instances      Box(P          R      mAP50  mAP50-95): 100%|██████████| 2/2 [00:00<00:00,  6.45it/s]"
     ]
    },
    {
     "name": "stdout",
     "output_type": "stream",
     "text": [
      "                   all         20        247      0.403      0.578      0.486      0.384\n"
     ]
    },
    {
     "name": "stderr",
     "output_type": "stream",
     "text": [
      "\n"
     ]
    },
    {
     "name": "stdout",
     "output_type": "stream",
     "text": [
      "\n",
      "      Epoch    GPU_mem   box_loss   cls_loss   dfl_loss  Instances       Size\n"
     ]
    },
    {
     "name": "stderr",
     "output_type": "stream",
     "text": [
      "      84/85      7.69G     0.2963     0.2316      1.287         36        640: 100%|██████████| 19/19 [00:08<00:00,  2.12it/s]\n",
      "                 Class     Images  Instances      Box(P          R      mAP50  mAP50-95): 100%|██████████| 2/2 [00:00<00:00,  6.51it/s]"
     ]
    },
    {
     "name": "stdout",
     "output_type": "stream",
     "text": [
      "                   all         20        247      0.547      0.441      0.491      0.391\n"
     ]
    },
    {
     "name": "stderr",
     "output_type": "stream",
     "text": [
      "\n"
     ]
    },
    {
     "name": "stdout",
     "output_type": "stream",
     "text": [
      "\n",
      "      Epoch    GPU_mem   box_loss   cls_loss   dfl_loss  Instances       Size\n"
     ]
    },
    {
     "name": "stderr",
     "output_type": "stream",
     "text": [
      "      85/85      7.71G     0.2899     0.2299      1.272         23        640: 100%|██████████| 19/19 [00:08<00:00,  2.12it/s]\n",
      "                 Class     Images  Instances      Box(P          R      mAP50  mAP50-95): 100%|██████████| 2/2 [00:00<00:00,  6.39it/s]"
     ]
    },
    {
     "name": "stdout",
     "output_type": "stream",
     "text": [
      "                   all         20        247      0.538       0.46      0.492      0.392\n"
     ]
    },
    {
     "name": "stderr",
     "output_type": "stream",
     "text": [
      "\n"
     ]
    },
    {
     "name": "stdout",
     "output_type": "stream",
     "text": [
      "\n",
      "85 epochs completed in 0.247 hours.\n",
      "Optimizer stripped from runs/obb/train/weights/last.pt, 53.3MB\n",
      "Optimizer stripped from runs/obb/train/weights/best.pt, 53.3MB\n",
      "\n",
      "Validating runs/obb/train/weights/best.pt...\n",
      "Ultralytics YOLOv8.1.29 🚀 Python-3.9.13 torch-1.12.1.post200 CUDA:0 (Tesla T4, 15978MiB)\n",
      "YOLOv8m-obb summary (fused): 237 layers, 26402383 parameters, 0 gradients, 80.8 GFLOPs\n"
     ]
    },
    {
     "name": "stderr",
     "output_type": "stream",
     "text": [
      "                 Class     Images  Instances      Box(P          R      mAP50  mAP50-95): 100%|██████████| 2/2 [00:00<00:00,  4.23it/s]\n"
     ]
    },
    {
     "name": "stdout",
     "output_type": "stream",
     "text": [
      "                   all         20        247      0.744      0.429      0.531      0.417\n",
      "damagedcommercialbuilding         20          7          1       0.42      0.492      0.403\n",
      "damagedresidentialbuilding         20         47       0.76      0.404      0.619      0.435\n",
      "undamagedcommercialbuilding         20         26      0.491      0.115      0.235      0.192\n",
      "undamagedresidentialbuilding         20        167      0.726      0.777      0.777      0.639\n",
      "Speed: 0.7ms preprocess, 15.1ms inference, 0.0ms loss, 2.5ms postprocess per image\n",
      "Results saved to \u001b[1mruns/obb/train\u001b[0m\n"
     ]
    }
   ],
   "source": [
    "results = model.train(data='./dataset.yaml', epochs=85, imgsz=640)"
   ]
  },
  {
   "cell_type": "markdown",
   "metadata": {},
   "source": [
    "After we train the model, we obtained the following results:\n",
    "\n",
    "\n",
    "| **Category**                 | **mAP50** |\n",
    "|------------------------------|-----------|\n",
    "| all                          | 0.531     |\n",
    "| damagedcommercialbuilding    | 0.492     |\n",
    "| damagedresidentialbuilding   | 0.619     |\n",
    "| undamagedcommercialbuilding  | 0.235     |\n",
    "| undamagedresidentialbuilding | 0.777     |\n",
    "\n",
    "The model performs best at identifying the `undamaged residential building` class. This can likely be attributed to the fact that the .tiff images, at first glance, predominantly feature undamaged houses. On the other hand, the `undamaged commercial building` class shows the worst performance, which may be due to a scarcity of examples from this class in the dataset.\n",
    "\n",
    "These results have been validated with our labeled data. Using the EY validation images, the model achieved a 0.49 mAP across all classes"
   ]
  },
  {
   "cell_type": "markdown",
   "metadata": {
    "id": "8eb95b28-1298-42cb-a2a2-64ca4795b385"
   },
   "source": [
    "## Part Four"
   ]
  },
  {
   "cell_type": "markdown",
   "metadata": {},
   "source": [
    "### Model Evaluation\n",
    "\n",
    "After training the model, it is crucial to evaluate its performance using test data to understand its ability to perform the object detection task. In this section, we will examine how to evaluate the model and visualize the results obtained.\n",
    "\n",
    "### Viewing Model Evaluation Results\n",
    "\n",
    "To visualize the results of the model evaluation, we will display an image that contains performance metrics such as precision, recall, and other relevant measures.\n",
    "\n",
    "In the runs folder there are a large number of visualizations of the training results such as graphs and an Excel table with the metrics. It also has a .yaml which contains the configurations used in the model."
   ]
  },
  {
   "cell_type": "code",
   "execution_count": 25,
   "metadata": {
    "id": "1d66c90e-4121-4b4c-a30f-34b9f7a1669b",
    "outputId": "dfbaf9f9-5afc-4bb6-cbf7-c32dbdf09f6f"
   },
   "outputs": [
    {
     "data": {
      "text/plain": [
       "<matplotlib.image.AxesImage at 0x727f2ec43520>"
      ]
     },
     "execution_count": 25,
     "metadata": {},
     "output_type": "execute_result"
    },
    {
     "data": {
      "image/png": "[encoded data removed]",
      "text/plain": [
       "<Figure size 1200x800 with 1 Axes>"
      ]
     },
     "metadata": {},
     "output_type": "display_data"
    }
   ],
   "source": [
    "figure(figsize=(15, 10), dpi=80)\n",
    "# reading the image\n",
    "results = img.imread('runs/obb/train/results.png')\n",
    "# displaying the image\n",
    "plt.imshow(results)"
   ]
  },
  {
   "cell_type": "code",
   "execution_count": 26,
   "metadata": {
    "id": "cb3545df-adf7-4d6c-83ac-e1d8152e073e",
    "outputId": "95bb745b-2188-4631-c10d-97de761f47a7"
   },
   "outputs": [
    {
     "data": {
      "text/plain": [
       "<matplotlib.image.AxesImage at 0x728040bcc700>"
      ]
     },
     "execution_count": 26,
     "metadata": {},
     "output_type": "execute_result"
    },
    {
     "data": {
      "image/png": "[encoded data removed]",
      "text/plain": [
       "<Figure size 1600x1200 with 1 Axes>"
      ]
     },
     "metadata": {},
     "output_type": "display_data"
    }
   ],
   "source": [
    "figure(figsize=(20,15), dpi=80)\n",
    "# reading the image\n",
    "cf = img.imread('runs/obb/train/confusion_matrix.png')\n",
    "# displaying the image\n",
    "plt.imshow(cf)"
   ]
  },
  {
   "cell_type": "markdown",
   "metadata": {
    "id": "513ebdc5"
   },
   "source": [
    "### Download submission images from platform"
   ]
  },
  {
   "cell_type": "code",
   "execution_count": 27,
   "metadata": {},
   "outputs": [
    {
     "name": "stdout",
     "output_type": "stream",
     "text": [
      "Downloading...\n",
      "From: https://drive.google.com/uc?id=1qfiywLvEEt1hd4w_2AdTKPVVwbnVWR-5\n",
      "To: /home/jovyan/challenge_1_submission_images.zip\n",
      "100%|████████████████████████████████████████| 584k/584k [00:00<00:00, 43.1MB/s]\n"
     ]
    }
   ],
   "source": [
    "!gdown 1qfiywLvEEt1hd4w_2AdTKPVVwbnVWR-5"
   ]
  },
  {
   "cell_type": "code",
   "execution_count": 28,
   "metadata": {
    "id": "f8da85fa-07b8-4b77-a469-7edc0a072008",
    "outputId": "ef88ca00-2ab3-49ba-9edd-7fc90d481f33"
   },
   "outputs": [
    {
     "name": "stdout",
     "output_type": "stream",
     "text": [
      "The zip file ./challenge_1_submission_images.zip has been extracted to the directory ./challenge_1_submission_images\n"
     ]
    }
   ],
   "source": [
    "def unzip_folder(zip_filepath, dest_dir):\n",
    "    with zipfile.ZipFile(zip_filepath, 'r') as zip_ref:\n",
    "        zip_ref.extractall(dest_dir)\n",
    "    print(f'The zip file {zip_filepath} has been extracted to the directory {dest_dir}')\n",
    "\n",
    "\n",
    "\n",
    "submission_zip = './challenge_1_submission_images.zip'\n",
    "submission_directory = './challenge_1_submission_images'\n",
    "unzip_folder(submission_zip,submission_directory)"
   ]
  },
  {
   "cell_type": "markdown",
   "metadata": {
    "id": "6202b019-a9b0-43b4-807e-da0d796125d6",
    "tags": []
   },
   "source": [
    "### Making Predictions on the Submission Data\n",
    "\n",
    "First, we need to load the trained model using the best model weights obtained during training. This can be done using the YOLO class from the Ultralytics library."
   ]
  },
  {
   "cell_type": "code",
   "execution_count": 29,
   "metadata": {
    "id": "89289c8c-0f6e-4474-8664-a2b76fd46819"
   },
   "outputs": [],
   "source": [
    "# Load the Model\n",
    "model = YOLO('runs/obb/train/weights/best.pt')"
   ]
  },
  {
   "cell_type": "markdown",
   "metadata": {},
   "source": [
    "This command loads the trained model using the best model weights saved in the directory `runs/obb/train/weights/`."
   ]
  },
  {
   "cell_type": "code",
   "execution_count": 30,
   "metadata": {
    "id": "308cf17b-5ce8-4f81-b592-de944d0db8ba",
    "outputId": "1dcd4c24-53f0-45df-818a-ffdfa82ddf9a"
   },
   "outputs": [
    {
     "name": "stdout",
     "output_type": "stream",
     "text": [
      "challenge_1_submission_images/Submission data/Validation_Post_Event_010.jpg\n",
      "Making a prediction on  Validation_Post_Event_010.jpg\n",
      "\n",
      "image 1/1 /home/jovyan/challenge_1_submission_images/Submission data/Validation_Post_Event_010.jpg: 640x640 39.3ms\n",
      "Speed: 2.8ms preprocess, 39.3ms inference, 2.0ms postprocess per image at shape (1, 3, 640, 640)\n",
      "Results saved to \u001b[1mruns/obb/predict\u001b[0m\n",
      "1 label saved to runs/obb/predict/labels\n",
      "Output files generated successfully.\n",
      "challenge_1_submission_images/Submission data/Validation_Post_Event_008.jpg\n",
      "Making a prediction on  Validation_Post_Event_008.jpg\n",
      "\n",
      "image 1/1 /home/jovyan/challenge_1_submission_images/Submission data/Validation_Post_Event_008.jpg: 640x640 39.4ms\n",
      "Speed: 1.8ms preprocess, 39.4ms inference, 1.8ms postprocess per image at shape (1, 3, 640, 640)\n",
      "Results saved to \u001b[1mruns/obb/predict\u001b[0m\n",
      "2 labels saved to runs/obb/predict/labels\n",
      "Output files generated successfully.\n",
      "challenge_1_submission_images/Submission data/Validation_Post_Event_006.jpg\n",
      "Making a prediction on  Validation_Post_Event_006.jpg\n",
      "\n",
      "image 1/1 /home/jovyan/challenge_1_submission_images/Submission data/Validation_Post_Event_006.jpg: 640x640 39.4ms\n",
      "Speed: 1.8ms preprocess, 39.4ms inference, 1.7ms postprocess per image at shape (1, 3, 640, 640)\n",
      "Results saved to \u001b[1mruns/obb/predict\u001b[0m\n",
      "3 labels saved to runs/obb/predict/labels\n",
      "Output files generated successfully.\n",
      "challenge_1_submission_images/Submission data/Validation_Post_Event_007.jpg\n",
      "Making a prediction on  Validation_Post_Event_007.jpg\n",
      "\n",
      "image 1/1 /home/jovyan/challenge_1_submission_images/Submission data/Validation_Post_Event_007.jpg: 640x640 27.2ms\n",
      "Speed: 1.8ms preprocess, 27.2ms inference, 1.7ms postprocess per image at shape (1, 3, 640, 640)\n",
      "Results saved to \u001b[1mruns/obb/predict\u001b[0m\n",
      "4 labels saved to runs/obb/predict/labels\n",
      "Output files generated successfully.\n",
      "challenge_1_submission_images/Submission data/Validation_Post_Event_012.jpg\n",
      "Making a prediction on  Validation_Post_Event_012.jpg\n",
      "\n",
      "image 1/1 /home/jovyan/challenge_1_submission_images/Submission data/Validation_Post_Event_012.jpg: 640x640 27.2ms\n",
      "Speed: 1.9ms preprocess, 27.2ms inference, 1.7ms postprocess per image at shape (1, 3, 640, 640)\n",
      "Results saved to \u001b[1mruns/obb/predict\u001b[0m\n",
      "5 labels saved to runs/obb/predict/labels\n",
      "Output files generated successfully.\n",
      "challenge_1_submission_images/Submission data/Validation_Post_Event_011.jpg\n",
      "Making a prediction on  Validation_Post_Event_011.jpg\n",
      "\n",
      "image 1/1 /home/jovyan/challenge_1_submission_images/Submission data/Validation_Post_Event_011.jpg: 640x640 26.5ms\n",
      "Speed: 1.8ms preprocess, 26.5ms inference, 1.7ms postprocess per image at shape (1, 3, 640, 640)\n",
      "Results saved to \u001b[1mruns/obb/predict\u001b[0m\n",
      "6 labels saved to runs/obb/predict/labels\n",
      "Output files generated successfully.\n",
      "challenge_1_submission_images/Submission data/Validation_Post_Event_004.jpg\n",
      "Making a prediction on  Validation_Post_Event_004.jpg\n",
      "\n",
      "image 1/1 /home/jovyan/challenge_1_submission_images/Submission data/Validation_Post_Event_004.jpg: 640x640 23.5ms\n",
      "Speed: 1.9ms preprocess, 23.5ms inference, 1.7ms postprocess per image at shape (1, 3, 640, 640)\n",
      "Results saved to \u001b[1mruns/obb/predict\u001b[0m\n",
      "7 labels saved to runs/obb/predict/labels\n",
      "Output files generated successfully.\n",
      "challenge_1_submission_images/Submission data/Validation_Post_Event_002.jpg\n",
      "Making a prediction on  Validation_Post_Event_002.jpg\n",
      "\n",
      "image 1/1 /home/jovyan/challenge_1_submission_images/Submission data/Validation_Post_Event_002.jpg: 640x640 22.5ms\n",
      "Speed: 1.8ms preprocess, 22.5ms inference, 1.8ms postprocess per image at shape (1, 3, 640, 640)\n",
      "Results saved to \u001b[1mruns/obb/predict\u001b[0m\n",
      "8 labels saved to runs/obb/predict/labels\n",
      "Output files generated successfully.\n",
      "challenge_1_submission_images/Submission data/Validation_Post_Event_005.jpg\n",
      "Making a prediction on  Validation_Post_Event_005.jpg\n",
      "\n",
      "image 1/1 /home/jovyan/challenge_1_submission_images/Submission data/Validation_Post_Event_005.jpg: 640x640 22.1ms\n",
      "Speed: 1.8ms preprocess, 22.1ms inference, 1.7ms postprocess per image at shape (1, 3, 640, 640)\n",
      "Results saved to \u001b[1mruns/obb/predict\u001b[0m\n",
      "9 labels saved to runs/obb/predict/labels\n",
      "Output files generated successfully.\n",
      "challenge_1_submission_images/Submission data/Validation_Post_Event_003.jpg\n",
      "Making a prediction on  Validation_Post_Event_003.jpg\n",
      "\n",
      "image 1/1 /home/jovyan/challenge_1_submission_images/Submission data/Validation_Post_Event_003.jpg: 640x640 21.8ms\n",
      "Speed: 1.8ms preprocess, 21.8ms inference, 1.7ms postprocess per image at shape (1, 3, 640, 640)\n",
      "Results saved to \u001b[1mruns/obb/predict\u001b[0m\n",
      "10 labels saved to runs/obb/predict/labels\n",
      "Output files generated successfully.\n",
      "challenge_1_submission_images/Submission data/Validation_Post_Event_009.jpg\n",
      "Making a prediction on  Validation_Post_Event_009.jpg\n",
      "\n",
      "image 1/1 /home/jovyan/challenge_1_submission_images/Submission data/Validation_Post_Event_009.jpg: 640x640 19.1ms\n",
      "Speed: 1.8ms preprocess, 19.1ms inference, 1.7ms postprocess per image at shape (1, 3, 640, 640)\n",
      "Results saved to \u001b[1mruns/obb/predict\u001b[0m\n",
      "11 labels saved to runs/obb/predict/labels\n",
      "Output files generated successfully.\n",
      "challenge_1_submission_images/Submission data/Validation_Post_Event_001.jpg\n",
      "Making a prediction on  Validation_Post_Event_001.jpg\n",
      "\n",
      "image 1/1 /home/jovyan/challenge_1_submission_images/Submission data/Validation_Post_Event_001.jpg: 640x640 19.1ms\n",
      "Speed: 1.8ms preprocess, 19.1ms inference, 1.7ms postprocess per image at shape (1, 3, 640, 640)\n",
      "Results saved to \u001b[1mruns/obb/predict\u001b[0m\n",
      "12 labels saved to runs/obb/predict/labels\n",
      "Output files generated successfully.\n"
     ]
    }
   ],
   "source": [
    "# Decoding according to the .yaml file class names order\n",
    "decoding_of_predictions ={0: 'damagedcommercialbuilding', 1: 'damagedresidentialbuilding', 2: 'undamagedcommercialbuilding', 3: 'undamagedresidentialbuilding'}\n",
    "directory = 'challenge_1_submission_images/Submission data'\n",
    "# Directory to store outputs\n",
    "results_directory = 'Validation_Data_Results'\n",
    "\n",
    "# Create submission directory if it doesn't exist\n",
    "if not os.path.exists(results_directory):\n",
    "    os.makedirs(results_directory)\n",
    "\n",
    "# Loop through each file in the directory\n",
    "for filename in os.listdir(directory):\n",
    "    # Check if the current object is a file and ends with .jpeg\n",
    "    if os.path.isfile(os.path.join(directory, filename)) and filename.lower().endswith('.jpg'):\n",
    "        # Perform operations on the file\n",
    "        file_path = os.path.join(directory, filename)\n",
    "        print(file_path)\n",
    "        print(\"Making a prediction on \", filename)\n",
    "        results = model.predict(file_path, save=True, iou=0.5, save_txt=True, conf=0.25)\n",
    "\n",
    "        for r in results:\n",
    "            conf_list = r.obb.conf.cpu().numpy().tolist()\n",
    "            clss_list = r.obb.cls.cpu().numpy().tolist()\n",
    "            original_list = clss_list\n",
    "            updated_list = []\n",
    "            for element in original_list:\n",
    "                 updated_list.append(decoding_of_predictions[int(element)])\n",
    "\n",
    "        bounding_boxes = r.obb.xyxy.cpu().numpy()\n",
    "        confidences = conf_list\n",
    "        class_names = updated_list\n",
    "\n",
    "        # Check if bounding boxes, confidences and class names match\n",
    "        if len(bounding_boxes) != len(confidences) or len(bounding_boxes) != len(class_names):\n",
    "            print(\"Error: Number of bounding boxes, confidences, and class names should be the same.\")\n",
    "            continue\n",
    "        text_file_name = os.path.splitext(filename)[0]\n",
    "        # Creating a new .txt file for each image in the submission_directory\n",
    "        with open(os.path.join(results_directory, f\"{text_file_name}.txt\"), \"w\") as file:\n",
    "            for i in range(len(bounding_boxes)):\n",
    "                # Get coordinates of each bounding box\n",
    "                left, top, right, bottom = bounding_boxes[i]\n",
    "                # Write content to file in desired format\n",
    "                file.write(f\"{class_names[i]} {confidences[i]} {left} {top} {right} {bottom}\\n\")\n",
    "        print(\"Output files generated successfully.\")\n"
   ]
  },
  {
   "cell_type": "markdown",
   "metadata": {},
   "source": [
    "This code generates a text file for each image in the input directory. Each file contains the object detection predictions in the format specified in the YAML file."
   ]
  },
  {
   "cell_type": "markdown",
   "metadata": {},
   "source": [
    "### Creating a ZIP File from a Directory\n",
    "After completing the predictions on the shipping data and getting the results, we can package these results into a ZIP file to upload to the platform and verify the accuracy.\n",
    "### Define the source directory and destination of the ZIP File\n",
    "\n",
    "Before creating the ZIP file, we first need to define the source directory containing the results and the name and location of the ZIP file to be created.\n"
   ]
  },
  {
   "cell_type": "code",
   "execution_count": 31,
   "metadata": {
    "id": "7441472f-f196-4bca-9081-e732db9dca24",
    "outputId": "9e135f4f-f09c-4e76-8ca6-1c38d0152943"
   },
   "outputs": [
    {
     "name": "stdout",
     "output_type": "stream",
     "text": [
      "Directory Validation_Data_Results has been successfully zipped into submission.\n"
     ]
    }
   ],
   "source": [
    "# Define your source directory and the destination where the zip file will be created\n",
    "source_dir = results_directory\n",
    "destination_zip = 'submission'\n",
    "\n",
    "# Create a zip file from the directory\n",
    "shutil.make_archive(destination_zip, 'zip', source_dir)\n",
    "\n",
    "print(f\"Directory {source_dir} has been successfully zipped into {destination_zip}.\")"
   ]
  },
  {
   "cell_type": "markdown",
   "metadata": {},
   "source": [
    "This code packages all files and subdirectories of the source directory into a ZIP file at the specified location. The resulting ZIP file will have the same name as the value provided in `destination_zip` with the extension `.zip`.\n",
    "\n",
    "Once the ZIP file has been created, it will be ready to submit to the platform and verify the accuracy of our model."
   ]
  },
  {
   "cell_type": "markdown",
   "metadata": {},
   "source": [
    "### Requirements"
   ]
  },
  {
   "cell_type": "code",
   "execution_count": 32,
   "metadata": {},
   "outputs": [],
   "source": [
    "!pip freeze > requirements.txt"
   ]
  }
 ],
 "metadata": {
  "colab": {
   "provenance": []
  },
  "kernelspec": {
   "display_name": "Python 3 (ipykernel)",
   "language": "python",
   "name": "python3"
  },
  "language_info": {
   "codemirror_mode": {
    "name": "ipython",
    "version": 3
   },
   "file_extension": ".py",
   "mimetype": "text/x-python",
   "name": "python",
   "nbconvert_exporter": "python",
   "pygments_lexer": "ipython3",
   "version": "3.9.13"
  }
 },
 "nbformat": 4,
 "nbformat_minor": 4
}
